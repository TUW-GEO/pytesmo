{
 "cells": [
  {
   "cell_type": "markdown",
   "metadata": {},
   "source": [
    "# Temporal Collocation of irregularly sampled timeseries\n",
    "\n",
    "Satellite observations usually have an irregular temporal sampling pattern (intervals between 6-36 hours), which is mostly controlled by the orbit of the satellite and the instrument measurement geometry. On the other hand, in-situ instruments or land surface models generally sample on regular time intervals (commonly every 1, 3, 6, 12 or 24 hours). \n",
    "In order to compute error/performance statistics (such as RMSD, bias, correlation) between the time series coming from different sources, it is required that observation pairs (or triplets, etc.) are found which (nearly) coincide in time.\n",
    "\n",
    "A simple way to identify such pairs is by using a nearest neighbor search. First, one time series needs to be selected as temporal reference (i.e. all other time series will be matched to this reference) and second, a tolerance window (typically around 1-12 hours) has to be defined characterizing the temporal correlation of neighboring observation (i.e. observations outside of the tolerance window are no longer be considered as representative neighbors). "
   ]
  },
  {
   "cell_type": "markdown",
   "metadata": {},
   "source": [
    "## Temporal collocation in pytesmo\n",
    "\n",
    "Pytesmo contains the function `pytesmo.temporal_matching.temporal_collocation` for temporally collocating timeseries. Currently, it implements nearest neighbour matching and a windowed mean. It requires a reference index (can also be a DataFrame or a Series), a DataFrame (or Series) to be collocated, and a window.\n",
    "\n",
    "```\n",
    "collocated = temporal_collocation(reference, input_frame, window)\n",
    "```\n",
    "\n",
    "The window argument corresponds to the time intervals that are included in the nearest neighbour search in each direction, e.g. if the reference time is $t$ and the window $\\Delta$, the nearest neighbour inside $[t-\\Delta, t+\\Delta]$ is returned. If no neighbour is found `np.nan` is used as replacement. NaNs can be dropped from the returned dataframe by providing the optional keyword argument ``dropna=True`` to the function.\n",
    "\n",
    "Below are two simple examples which demonstrate the usage. The first example assumes that the index of data to be collocated is shifted by 3 hours with respect to the reference, while using a 6 hour window. The second example uses an index that is randomly shifted by $\\pm12$ hours with respect to the reference. The second example also uses a 6 hour window, which results in some missing values in the resulting dataframe."
   ]
  },
  {
   "cell_type": "code",
   "execution_count": 46,
   "metadata": {},
   "outputs": [],
   "source": [
    "import numpy as np\n",
    "import pandas as pd\n",
    "\n",
    "from pytesmo.temporal_matching import temporal_collocation, combined_temporal_collocation"
   ]
  },
  {
   "cell_type": "code",
   "execution_count": 47,
   "metadata": {},
   "outputs": [
    {
     "data": {
      "text/plain": "                     shifted_0  shifted_1  shifted_2\n2020-01-01 03:00:00   0.333968  -0.994388   1.088213\n2020-01-02 03:00:00  -0.415296  -1.073685  -0.899238\n2020-01-03 03:00:00  -0.262314   1.016805  -0.679889\n2020-01-04 03:00:00   0.463864  -0.742241   1.023765\n2020-01-05 03:00:00  -0.902574   0.090489  -0.524547",
      "text/html": "<div>\n<style scoped>\n    .dataframe tbody tr th:only-of-type {\n        vertical-align: middle;\n    }\n\n    .dataframe tbody tr th {\n        vertical-align: top;\n    }\n\n    .dataframe thead th {\n        text-align: right;\n    }\n</style>\n<table border=\"1\" class=\"dataframe\">\n  <thead>\n    <tr style=\"text-align: right;\">\n      <th></th>\n      <th>shifted_0</th>\n      <th>shifted_1</th>\n      <th>shifted_2</th>\n    </tr>\n  </thead>\n  <tbody>\n    <tr>\n      <th>2020-01-01 03:00:00</th>\n      <td>0.333968</td>\n      <td>-0.994388</td>\n      <td>1.088213</td>\n    </tr>\n    <tr>\n      <th>2020-01-02 03:00:00</th>\n      <td>-0.415296</td>\n      <td>-1.073685</td>\n      <td>-0.899238</td>\n    </tr>\n    <tr>\n      <th>2020-01-03 03:00:00</th>\n      <td>-0.262314</td>\n      <td>1.016805</td>\n      <td>-0.679889</td>\n    </tr>\n    <tr>\n      <th>2020-01-04 03:00:00</th>\n      <td>0.463864</td>\n      <td>-0.742241</td>\n      <td>1.023765</td>\n    </tr>\n    <tr>\n      <th>2020-01-05 03:00:00</th>\n      <td>-0.902574</td>\n      <td>0.090489</td>\n      <td>-0.524547</td>\n    </tr>\n  </tbody>\n</table>\n</div>"
     },
     "execution_count": 47,
     "metadata": {},
     "output_type": "execute_result"
    }
   ],
   "source": [
    "# create reference time series\n",
    "ref = pd.date_range(\"2020-01-01\", \"2020-12-31\", freq=\"D\")\n",
    "# temporal_collocation can also take a DataFrame or Series as reference input,\n",
    "# in case their index is a DatetimeIndex.\n",
    "\n",
    "# create other time series as dataframe\n",
    "values = np.random.randn(len(ref), 3)\n",
    "shifted = pd.DataFrame(values, index=ref + pd.Timedelta(hours=3), \n",
    "                       columns=list(map(lambda x: f\"shifted_{x}\", range(3))))\n",
    "random_shift = np.random.uniform(-12, 12, len(ref))\n",
    "random = pd.DataFrame(values, index=ref + pd.to_timedelta(random_shift, \"H\"),\n",
    "                      columns=list(map(lambda x: f\"random_{x}\", range(3))))\n",
    "\n",
    "shifted.head()"
   ]
  },
  {
   "cell_type": "code",
   "execution_count": 48,
   "metadata": {},
   "outputs": [
    {
     "data": {
      "text/plain": "                               random_0  random_1  random_2\n2019-12-31 20:15:55.596830400  0.333968 -0.994388  1.088213\n2020-01-01 16:55:30.277189200 -0.415296 -1.073685 -0.899238\n2020-01-03 01:08:50.478777600 -0.262314  1.016805 -0.679889\n2020-01-03 21:01:18.874149600  0.463864 -0.742241  1.023765\n2020-01-05 07:42:05.862592800 -0.902574  0.090489 -0.524547",
      "text/html": "<div>\n<style scoped>\n    .dataframe tbody tr th:only-of-type {\n        vertical-align: middle;\n    }\n\n    .dataframe tbody tr th {\n        vertical-align: top;\n    }\n\n    .dataframe thead th {\n        text-align: right;\n    }\n</style>\n<table border=\"1\" class=\"dataframe\">\n  <thead>\n    <tr style=\"text-align: right;\">\n      <th></th>\n      <th>random_0</th>\n      <th>random_1</th>\n      <th>random_2</th>\n    </tr>\n  </thead>\n  <tbody>\n    <tr>\n      <th>2019-12-31 20:15:55.596830400</th>\n      <td>0.333968</td>\n      <td>-0.994388</td>\n      <td>1.088213</td>\n    </tr>\n    <tr>\n      <th>2020-01-01 16:55:30.277189200</th>\n      <td>-0.415296</td>\n      <td>-1.073685</td>\n      <td>-0.899238</td>\n    </tr>\n    <tr>\n      <th>2020-01-03 01:08:50.478777600</th>\n      <td>-0.262314</td>\n      <td>1.016805</td>\n      <td>-0.679889</td>\n    </tr>\n    <tr>\n      <th>2020-01-03 21:01:18.874149600</th>\n      <td>0.463864</td>\n      <td>-0.742241</td>\n      <td>1.023765</td>\n    </tr>\n    <tr>\n      <th>2020-01-05 07:42:05.862592800</th>\n      <td>-0.902574</td>\n      <td>0.090489</td>\n      <td>-0.524547</td>\n    </tr>\n  </tbody>\n</table>\n</div>"
     },
     "execution_count": 48,
     "metadata": {},
     "output_type": "execute_result"
    }
   ],
   "source": [
    "random.head()"
   ]
  },
  {
   "cell_type": "markdown",
   "metadata": {},
   "source": [
    "We can now match the shifted timeseries to the reference index by using a 6-hour window, either for a nearest neighbour search, or for taking a windowed mean. Both should return unchanges timeseries, except for the index."
   ]
  },
  {
   "cell_type": "code",
   "execution_count": 49,
   "metadata": {},
   "outputs": [
    {
     "data": {
      "text/plain": "            shifted_0  shifted_1  shifted_2\n2020-01-01   0.333968  -0.994388   1.088213\n2020-01-02  -0.415296  -1.073685  -0.899238\n2020-01-03  -0.262314   1.016805  -0.679889\n2020-01-04   0.463864  -0.742241   1.023765\n2020-01-05  -0.902574   0.090489  -0.524547\n...               ...        ...        ...\n2020-12-27  -0.011955  -0.195157   0.092675\n2020-12-28  -0.728514  -1.025533  -2.532032\n2020-12-29   0.116852  -0.715968   0.673285\n2020-12-30   0.942339  -1.139469  -0.297471\n2020-12-31   0.406920  -0.928457  -0.110924\n\n[366 rows x 3 columns]",
      "text/html": "<div>\n<style scoped>\n    .dataframe tbody tr th:only-of-type {\n        vertical-align: middle;\n    }\n\n    .dataframe tbody tr th {\n        vertical-align: top;\n    }\n\n    .dataframe thead th {\n        text-align: right;\n    }\n</style>\n<table border=\"1\" class=\"dataframe\">\n  <thead>\n    <tr style=\"text-align: right;\">\n      <th></th>\n      <th>shifted_0</th>\n      <th>shifted_1</th>\n      <th>shifted_2</th>\n    </tr>\n  </thead>\n  <tbody>\n    <tr>\n      <th>2020-01-01</th>\n      <td>0.333968</td>\n      <td>-0.994388</td>\n      <td>1.088213</td>\n    </tr>\n    <tr>\n      <th>2020-01-02</th>\n      <td>-0.415296</td>\n      <td>-1.073685</td>\n      <td>-0.899238</td>\n    </tr>\n    <tr>\n      <th>2020-01-03</th>\n      <td>-0.262314</td>\n      <td>1.016805</td>\n      <td>-0.679889</td>\n    </tr>\n    <tr>\n      <th>2020-01-04</th>\n      <td>0.463864</td>\n      <td>-0.742241</td>\n      <td>1.023765</td>\n    </tr>\n    <tr>\n      <th>2020-01-05</th>\n      <td>-0.902574</td>\n      <td>0.090489</td>\n      <td>-0.524547</td>\n    </tr>\n    <tr>\n      <th>...</th>\n      <td>...</td>\n      <td>...</td>\n      <td>...</td>\n    </tr>\n    <tr>\n      <th>2020-12-27</th>\n      <td>-0.011955</td>\n      <td>-0.195157</td>\n      <td>0.092675</td>\n    </tr>\n    <tr>\n      <th>2020-12-28</th>\n      <td>-0.728514</td>\n      <td>-1.025533</td>\n      <td>-2.532032</td>\n    </tr>\n    <tr>\n      <th>2020-12-29</th>\n      <td>0.116852</td>\n      <td>-0.715968</td>\n      <td>0.673285</td>\n    </tr>\n    <tr>\n      <th>2020-12-30</th>\n      <td>0.942339</td>\n      <td>-1.139469</td>\n      <td>-0.297471</td>\n    </tr>\n    <tr>\n      <th>2020-12-31</th>\n      <td>0.406920</td>\n      <td>-0.928457</td>\n      <td>-0.110924</td>\n    </tr>\n  </tbody>\n</table>\n<p>366 rows × 3 columns</p>\n</div>"
     },
     "execution_count": 49,
     "metadata": {},
     "output_type": "execute_result"
    }
   ],
   "source": [
    "# match the regularly shifted data\n",
    "window = pd.Timedelta(hours=6)\n",
    "matched_shifted_nn = temporal_collocation(ref, shifted, window, method=\"nearest\")\n",
    "matched_shifted_mean = temporal_collocation(ref, shifted, window, method=\"mean\")\n",
    "\n",
    "# the data should be the same before and after matching for both methods\n",
    "assert np.all(shifted.values == matched_shifted_nn.values)\n",
    "assert np.all(shifted.values == matched_shifted_mean.values)\n",
    "\n",
    "matched_shifted_nn\n",
    "\n"
   ]
  },
  {
   "cell_type": "markdown",
   "metadata": {},
   "source": [
    "We can do the same for the randomly shifted timeseries. Here we should see some changes, because sometimes there's no value inside the window that we are looking at. However, the result of mean and nearest neighbour should be the same"
   ]
  },
  {
   "cell_type": "code",
   "execution_count": 50,
   "metadata": {},
   "outputs": [
    {
     "data": {
      "text/plain": "            random_0  random_1  random_2\n2020-01-01  0.333968 -0.994388  1.088213\n2020-01-02       NaN       NaN       NaN\n2020-01-03 -0.262314  1.016805 -0.679889\n2020-01-04  0.463864 -0.742241  1.023765\n2020-01-05       NaN       NaN       NaN\n...              ...       ...       ...\n2020-12-27       NaN       NaN       NaN\n2020-12-28 -0.728514 -1.025533 -2.532032\n2020-12-29       NaN       NaN       NaN\n2020-12-30       NaN       NaN       NaN\n2020-12-31  0.406920 -0.928457 -0.110924\n\n[366 rows x 3 columns]",
      "text/html": "<div>\n<style scoped>\n    .dataframe tbody tr th:only-of-type {\n        vertical-align: middle;\n    }\n\n    .dataframe tbody tr th {\n        vertical-align: top;\n    }\n\n    .dataframe thead th {\n        text-align: right;\n    }\n</style>\n<table border=\"1\" class=\"dataframe\">\n  <thead>\n    <tr style=\"text-align: right;\">\n      <th></th>\n      <th>random_0</th>\n      <th>random_1</th>\n      <th>random_2</th>\n    </tr>\n  </thead>\n  <tbody>\n    <tr>\n      <th>2020-01-01</th>\n      <td>0.333968</td>\n      <td>-0.994388</td>\n      <td>1.088213</td>\n    </tr>\n    <tr>\n      <th>2020-01-02</th>\n      <td>NaN</td>\n      <td>NaN</td>\n      <td>NaN</td>\n    </tr>\n    <tr>\n      <th>2020-01-03</th>\n      <td>-0.262314</td>\n      <td>1.016805</td>\n      <td>-0.679889</td>\n    </tr>\n    <tr>\n      <th>2020-01-04</th>\n      <td>0.463864</td>\n      <td>-0.742241</td>\n      <td>1.023765</td>\n    </tr>\n    <tr>\n      <th>2020-01-05</th>\n      <td>NaN</td>\n      <td>NaN</td>\n      <td>NaN</td>\n    </tr>\n    <tr>\n      <th>...</th>\n      <td>...</td>\n      <td>...</td>\n      <td>...</td>\n    </tr>\n    <tr>\n      <th>2020-12-27</th>\n      <td>NaN</td>\n      <td>NaN</td>\n      <td>NaN</td>\n    </tr>\n    <tr>\n      <th>2020-12-28</th>\n      <td>-0.728514</td>\n      <td>-1.025533</td>\n      <td>-2.532032</td>\n    </tr>\n    <tr>\n      <th>2020-12-29</th>\n      <td>NaN</td>\n      <td>NaN</td>\n      <td>NaN</td>\n    </tr>\n    <tr>\n      <th>2020-12-30</th>\n      <td>NaN</td>\n      <td>NaN</td>\n      <td>NaN</td>\n    </tr>\n    <tr>\n      <th>2020-12-31</th>\n      <td>0.406920</td>\n      <td>-0.928457</td>\n      <td>-0.110924</td>\n    </tr>\n  </tbody>\n</table>\n<p>366 rows × 3 columns</p>\n</div>"
     },
     "execution_count": 50,
     "metadata": {},
     "output_type": "execute_result"
    }
   ],
   "source": [
    "# match the randomly shifted data\n",
    "matched_random_nn = temporal_collocation(ref, random, window, method=\"nearest\")\n",
    "matched_random_mean = temporal_collocation(ref, random, window, method=\"mean\")\n",
    "\n",
    "# the data should be the same as before matching at the locations where the shift\n",
    "# was below 6 hours, and should be np.nan when shift was larger\n",
    "should_be_nan = np.abs(random_shift) > 6\n",
    "\n",
    "assert np.all(matched_random_nn[~should_be_nan].values == random[~should_be_nan].values)\n",
    "assert np.all(np.isnan(matched_random_nn[should_be_nan].values))\n",
    "\n",
    "for c in matched_random_nn.columns:\n",
    "    df = pd.DataFrame(index=range(366),\n",
    "                      data={'mean': matched_random_mean[c].values,\n",
    "                            'nn': matched_random_nn[c].values})\n",
    "    assert np.all(df.dropna().diff(axis=1).iloc[:, 1] == 0.)\n",
    "\n",
    "matched_random_nn"
   ]
  },
  {
   "cell_type": "markdown",
   "metadata": {},
   "source": [
    "### Returning the original index\n",
    "\n",
    "`temporal_collocation` can also return the original index of the data that was matched as a separate column in the resulting DataFrame, if required, and can additionally also calculate the distance to the reference. The column names are \"index_other\" and \"distance_other\", respectively."
   ]
  },
  {
   "cell_type": "code",
   "execution_count": 51,
   "metadata": {},
   "outputs": [
    {
     "data": {
      "text/plain": "            shifted_0  shifted_1  shifted_2         index_other  \\\n2020-01-01   0.333968  -0.994388   1.088213 2020-01-01 03:00:00   \n2020-01-02  -0.415296  -1.073685  -0.899238 2020-01-02 03:00:00   \n2020-01-03  -0.262314   1.016805  -0.679889 2020-01-03 03:00:00   \n2020-01-04   0.463864  -0.742241   1.023765 2020-01-04 03:00:00   \n2020-01-05  -0.902574   0.090489  -0.524547 2020-01-05 03:00:00   \n...               ...        ...        ...                 ...   \n2020-12-27  -0.011955  -0.195157   0.092675 2020-12-27 03:00:00   \n2020-12-28  -0.728514  -1.025533  -2.532032 2020-12-28 03:00:00   \n2020-12-29   0.116852  -0.715968   0.673285 2020-12-29 03:00:00   \n2020-12-30   0.942339  -1.139469  -0.297471 2020-12-30 03:00:00   \n2020-12-31   0.406920  -0.928457  -0.110924 2020-12-31 03:00:00   \n\n            distance_other  \n2020-01-01 0 days 03:00:00  \n2020-01-02 0 days 03:00:00  \n2020-01-03 0 days 03:00:00  \n2020-01-04 0 days 03:00:00  \n2020-01-05 0 days 03:00:00  \n...                    ...  \n2020-12-27 0 days 03:00:00  \n2020-12-28 0 days 03:00:00  \n2020-12-29 0 days 03:00:00  \n2020-12-30 0 days 03:00:00  \n2020-12-31 0 days 03:00:00  \n\n[366 rows x 5 columns]",
      "text/html": "<div>\n<style scoped>\n    .dataframe tbody tr th:only-of-type {\n        vertical-align: middle;\n    }\n\n    .dataframe tbody tr th {\n        vertical-align: top;\n    }\n\n    .dataframe thead th {\n        text-align: right;\n    }\n</style>\n<table border=\"1\" class=\"dataframe\">\n  <thead>\n    <tr style=\"text-align: right;\">\n      <th></th>\n      <th>shifted_0</th>\n      <th>shifted_1</th>\n      <th>shifted_2</th>\n      <th>index_other</th>\n      <th>distance_other</th>\n    </tr>\n  </thead>\n  <tbody>\n    <tr>\n      <th>2020-01-01</th>\n      <td>0.333968</td>\n      <td>-0.994388</td>\n      <td>1.088213</td>\n      <td>2020-01-01 03:00:00</td>\n      <td>0 days 03:00:00</td>\n    </tr>\n    <tr>\n      <th>2020-01-02</th>\n      <td>-0.415296</td>\n      <td>-1.073685</td>\n      <td>-0.899238</td>\n      <td>2020-01-02 03:00:00</td>\n      <td>0 days 03:00:00</td>\n    </tr>\n    <tr>\n      <th>2020-01-03</th>\n      <td>-0.262314</td>\n      <td>1.016805</td>\n      <td>-0.679889</td>\n      <td>2020-01-03 03:00:00</td>\n      <td>0 days 03:00:00</td>\n    </tr>\n    <tr>\n      <th>2020-01-04</th>\n      <td>0.463864</td>\n      <td>-0.742241</td>\n      <td>1.023765</td>\n      <td>2020-01-04 03:00:00</td>\n      <td>0 days 03:00:00</td>\n    </tr>\n    <tr>\n      <th>2020-01-05</th>\n      <td>-0.902574</td>\n      <td>0.090489</td>\n      <td>-0.524547</td>\n      <td>2020-01-05 03:00:00</td>\n      <td>0 days 03:00:00</td>\n    </tr>\n    <tr>\n      <th>...</th>\n      <td>...</td>\n      <td>...</td>\n      <td>...</td>\n      <td>...</td>\n      <td>...</td>\n    </tr>\n    <tr>\n      <th>2020-12-27</th>\n      <td>-0.011955</td>\n      <td>-0.195157</td>\n      <td>0.092675</td>\n      <td>2020-12-27 03:00:00</td>\n      <td>0 days 03:00:00</td>\n    </tr>\n    <tr>\n      <th>2020-12-28</th>\n      <td>-0.728514</td>\n      <td>-1.025533</td>\n      <td>-2.532032</td>\n      <td>2020-12-28 03:00:00</td>\n      <td>0 days 03:00:00</td>\n    </tr>\n    <tr>\n      <th>2020-12-29</th>\n      <td>0.116852</td>\n      <td>-0.715968</td>\n      <td>0.673285</td>\n      <td>2020-12-29 03:00:00</td>\n      <td>0 days 03:00:00</td>\n    </tr>\n    <tr>\n      <th>2020-12-30</th>\n      <td>0.942339</td>\n      <td>-1.139469</td>\n      <td>-0.297471</td>\n      <td>2020-12-30 03:00:00</td>\n      <td>0 days 03:00:00</td>\n    </tr>\n    <tr>\n      <th>2020-12-31</th>\n      <td>0.406920</td>\n      <td>-0.928457</td>\n      <td>-0.110924</td>\n      <td>2020-12-31 03:00:00</td>\n      <td>0 days 03:00:00</td>\n    </tr>\n  </tbody>\n</table>\n<p>366 rows × 5 columns</p>\n</div>"
     },
     "execution_count": 51,
     "metadata": {},
     "output_type": "execute_result"
    }
   ],
   "source": [
    "# also return original index and distance\n",
    "matched_shifted = temporal_collocation(\n",
    "    ref, shifted, window, \n",
    "    method=\"nearest\", \n",
    "    return_index=True, \n",
    "    return_distance=True\n",
    ")\n",
    "\n",
    "# the index should be the same as unmatched, and the distance should be 3  hours\n",
    "assert np.all(matched_shifted[\"index_other\"].values == shifted.index.values)\n",
    "assert np.all(matched_shifted[\"distance_other\"] == pd.Timedelta(hours=3))\n",
    "\n",
    "matched_shifted"
   ]
  },
  {
   "cell_type": "markdown",
   "metadata": {},
   "source": [
    "## Flags\n",
    "\n",
    "Satellite data often contains flags indicating quality issues with the data. With `temporal_collocation` it is possible to use this information. Flags can either be provided as array (of the same length as the input DataFrame), or the name of a column in the DataFrame to be used as flag can be provided as string. Any non-zero flag is interpreted as indicating invalid data. By default this will not be used, but when passing ``use_invalid=True``, the invalid values will be used in case no valid match was found.\n",
    "\n",
    "For the following example, we reuse the input data shifted by 3 hours, but we will now assume that the first 3 observations had quality issues."
   ]
  },
  {
   "cell_type": "code",
   "execution_count": 52,
   "metadata": {},
   "outputs": [
    {
     "data": {
      "text/plain": "array([ True,  True,  True, False, False, False, False, False, False,\n       False])"
     },
     "execution_count": 52,
     "metadata": {},
     "output_type": "execute_result"
    }
   ],
   "source": [
    "# flag the first 3 observations as invalid\n",
    "flag = np.zeros(len(ref), dtype=bool)\n",
    "flag[0:3] = True\n",
    "flag[0:10]"
   ]
  },
  {
   "cell_type": "code",
   "execution_count": 53,
   "metadata": {},
   "outputs": [
    {
     "data": {
      "text/plain": "            shifted_0  shifted_1  shifted_2\n2020-01-01        NaN        NaN        NaN\n2020-01-02        NaN        NaN        NaN\n2020-01-03        NaN        NaN        NaN\n2020-01-04   0.463864  -0.742241   1.023765\n2020-01-05  -0.902574   0.090489  -0.524547\n...               ...        ...        ...\n2020-12-27  -0.011955  -0.195157   0.092675\n2020-12-28  -0.728514  -1.025533  -2.532032\n2020-12-29   0.116852  -0.715968   0.673285\n2020-12-30   0.942339  -1.139469  -0.297471\n2020-12-31   0.406920  -0.928457  -0.110924\n\n[366 rows x 3 columns]",
      "text/html": "<div>\n<style scoped>\n    .dataframe tbody tr th:only-of-type {\n        vertical-align: middle;\n    }\n\n    .dataframe tbody tr th {\n        vertical-align: top;\n    }\n\n    .dataframe thead th {\n        text-align: right;\n    }\n</style>\n<table border=\"1\" class=\"dataframe\">\n  <thead>\n    <tr style=\"text-align: right;\">\n      <th></th>\n      <th>shifted_0</th>\n      <th>shifted_1</th>\n      <th>shifted_2</th>\n    </tr>\n  </thead>\n  <tbody>\n    <tr>\n      <th>2020-01-01</th>\n      <td>NaN</td>\n      <td>NaN</td>\n      <td>NaN</td>\n    </tr>\n    <tr>\n      <th>2020-01-02</th>\n      <td>NaN</td>\n      <td>NaN</td>\n      <td>NaN</td>\n    </tr>\n    <tr>\n      <th>2020-01-03</th>\n      <td>NaN</td>\n      <td>NaN</td>\n      <td>NaN</td>\n    </tr>\n    <tr>\n      <th>2020-01-04</th>\n      <td>0.463864</td>\n      <td>-0.742241</td>\n      <td>1.023765</td>\n    </tr>\n    <tr>\n      <th>2020-01-05</th>\n      <td>-0.902574</td>\n      <td>0.090489</td>\n      <td>-0.524547</td>\n    </tr>\n    <tr>\n      <th>...</th>\n      <td>...</td>\n      <td>...</td>\n      <td>...</td>\n    </tr>\n    <tr>\n      <th>2020-12-27</th>\n      <td>-0.011955</td>\n      <td>-0.195157</td>\n      <td>0.092675</td>\n    </tr>\n    <tr>\n      <th>2020-12-28</th>\n      <td>-0.728514</td>\n      <td>-1.025533</td>\n      <td>-2.532032</td>\n    </tr>\n    <tr>\n      <th>2020-12-29</th>\n      <td>0.116852</td>\n      <td>-0.715968</td>\n      <td>0.673285</td>\n    </tr>\n    <tr>\n      <th>2020-12-30</th>\n      <td>0.942339</td>\n      <td>-1.139469</td>\n      <td>-0.297471</td>\n    </tr>\n    <tr>\n      <th>2020-12-31</th>\n      <td>0.406920</td>\n      <td>-0.928457</td>\n      <td>-0.110924</td>\n    </tr>\n  </tbody>\n</table>\n<p>366 rows × 3 columns</p>\n</div>"
     },
     "execution_count": 53,
     "metadata": {},
     "output_type": "execute_result"
    }
   ],
   "source": [
    "matched_flagged = temporal_collocation(ref, shifted, window, flag=flag)\n",
    "\n",
    "# the first 3 values should be NaN, otherwise the result should be the same as matched_shifted\n",
    "assert np.all(np.isnan(matched_flagged.values[0:3, :]))\n",
    "assert np.all(matched_flagged.values[3:, :] == matched_shifted.values[3:, 0:3])  # excluding additonal columns\n",
    "matched_flagged"
   ]
  },
  {
   "cell_type": "code",
   "execution_count": 54,
   "metadata": {},
   "outputs": [
    {
     "data": {
      "text/plain": "            shifted_0  shifted_1  shifted_2 my_flag\n2020-01-01        NaN        NaN        NaN     NaN\n2020-01-02        NaN        NaN        NaN     NaN\n2020-01-03        NaN        NaN        NaN     NaN\n2020-01-04   0.463864  -0.742241   1.023765   False\n2020-01-05  -0.902574   0.090489  -0.524547   False\n...               ...        ...        ...     ...\n2020-12-27  -0.011955  -0.195157   0.092675   False\n2020-12-28  -0.728514  -1.025533  -2.532032   False\n2020-12-29   0.116852  -0.715968   0.673285   False\n2020-12-30   0.942339  -1.139469  -0.297471   False\n2020-12-31   0.406920  -0.928457  -0.110924   False\n\n[366 rows x 4 columns]",
      "text/html": "<div>\n<style scoped>\n    .dataframe tbody tr th:only-of-type {\n        vertical-align: middle;\n    }\n\n    .dataframe tbody tr th {\n        vertical-align: top;\n    }\n\n    .dataframe thead th {\n        text-align: right;\n    }\n</style>\n<table border=\"1\" class=\"dataframe\">\n  <thead>\n    <tr style=\"text-align: right;\">\n      <th></th>\n      <th>shifted_0</th>\n      <th>shifted_1</th>\n      <th>shifted_2</th>\n      <th>my_flag</th>\n    </tr>\n  </thead>\n  <tbody>\n    <tr>\n      <th>2020-01-01</th>\n      <td>NaN</td>\n      <td>NaN</td>\n      <td>NaN</td>\n      <td>NaN</td>\n    </tr>\n    <tr>\n      <th>2020-01-02</th>\n      <td>NaN</td>\n      <td>NaN</td>\n      <td>NaN</td>\n      <td>NaN</td>\n    </tr>\n    <tr>\n      <th>2020-01-03</th>\n      <td>NaN</td>\n      <td>NaN</td>\n      <td>NaN</td>\n      <td>NaN</td>\n    </tr>\n    <tr>\n      <th>2020-01-04</th>\n      <td>0.463864</td>\n      <td>-0.742241</td>\n      <td>1.023765</td>\n      <td>False</td>\n    </tr>\n    <tr>\n      <th>2020-01-05</th>\n      <td>-0.902574</td>\n      <td>0.090489</td>\n      <td>-0.524547</td>\n      <td>False</td>\n    </tr>\n    <tr>\n      <th>...</th>\n      <td>...</td>\n      <td>...</td>\n      <td>...</td>\n      <td>...</td>\n    </tr>\n    <tr>\n      <th>2020-12-27</th>\n      <td>-0.011955</td>\n      <td>-0.195157</td>\n      <td>0.092675</td>\n      <td>False</td>\n    </tr>\n    <tr>\n      <th>2020-12-28</th>\n      <td>-0.728514</td>\n      <td>-1.025533</td>\n      <td>-2.532032</td>\n      <td>False</td>\n    </tr>\n    <tr>\n      <th>2020-12-29</th>\n      <td>0.116852</td>\n      <td>-0.715968</td>\n      <td>0.673285</td>\n      <td>False</td>\n    </tr>\n    <tr>\n      <th>2020-12-30</th>\n      <td>0.942339</td>\n      <td>-1.139469</td>\n      <td>-0.297471</td>\n      <td>False</td>\n    </tr>\n    <tr>\n      <th>2020-12-31</th>\n      <td>0.406920</td>\n      <td>-0.928457</td>\n      <td>-0.110924</td>\n      <td>False</td>\n    </tr>\n  </tbody>\n</table>\n<p>366 rows × 4 columns</p>\n</div>"
     },
     "execution_count": 54,
     "metadata": {},
     "output_type": "execute_result"
    }
   ],
   "source": [
    "# This also works when the flag is already in the input frame, but note that\n",
    "# in the output frame the nonzero flag values are replaced by NaN\n",
    "flagged = shifted.assign(my_flag=flag)\n",
    "matched_flagged = temporal_collocation(ref, flagged, window, flag=\"my_flag\")\n",
    "\n",
    "# the first 3 values should be NaN, otherwise the result should be the same as matched_shifted\n",
    "assert np.all(np.isnan(matched_flagged.iloc[0:3, 0:3].values))\n",
    "assert np.all(matched_flagged.iloc[3:, 0:3].values == matched_shifted.values[3:, 0:3])  # excluding additonal columns\n",
    "matched_flagged"
   ]
  },
  {
   "cell_type": "markdown",
   "metadata": {},
   "source": [
    "## Combined collocation\n",
    "\n",
    "It is also possible to match multiple timeseries together against a reference dataset using the function `pytesmo.temporal_matching.combined_temporal_collocation`. With the keyword argument `combined_dropna` it's possible to drop data where one of the input datasets has missing values from all other input datasets."
   ]
  },
  {
   "cell_type": "code",
   "execution_count": 55,
   "metadata": {},
   "outputs": [
    {
     "data": {
      "text/plain": "            random_0  random_1  random_2  shifted_0  shifted_1  shifted_2\n2020-01-01  0.333968 -0.994388  1.088213   0.333968  -0.994388   1.088213\n2020-01-03 -0.262314  1.016805 -0.679889  -0.262314   1.016805  -0.679889\n2020-01-04  0.463864 -0.742241  1.023765   0.463864  -0.742241   1.023765\n2020-01-09  1.701771 -0.880685 -0.791397   1.701771  -0.880685  -0.791397\n2020-01-10 -1.182890  0.732010 -1.763572  -1.182890   0.732010  -1.763572\n...              ...       ...       ...        ...        ...        ...\n2020-12-22  1.101037 -0.451099 -0.583519   1.101037  -0.451099  -0.583519\n2020-12-23 -0.230069  0.510020  0.365622  -0.230069   0.510020   0.365622\n2020-12-24  0.870217 -0.679586  0.045820   0.870217  -0.679586   0.045820\n2020-12-28 -0.728514 -1.025533 -2.532032  -0.728514  -1.025533  -2.532032\n2020-12-31  0.406920 -0.928457 -0.110924   0.406920  -0.928457  -0.110924\n\n[201 rows x 6 columns]",
      "text/html": "<div>\n<style scoped>\n    .dataframe tbody tr th:only-of-type {\n        vertical-align: middle;\n    }\n\n    .dataframe tbody tr th {\n        vertical-align: top;\n    }\n\n    .dataframe thead th {\n        text-align: right;\n    }\n</style>\n<table border=\"1\" class=\"dataframe\">\n  <thead>\n    <tr style=\"text-align: right;\">\n      <th></th>\n      <th>random_0</th>\n      <th>random_1</th>\n      <th>random_2</th>\n      <th>shifted_0</th>\n      <th>shifted_1</th>\n      <th>shifted_2</th>\n    </tr>\n  </thead>\n  <tbody>\n    <tr>\n      <th>2020-01-01</th>\n      <td>0.333968</td>\n      <td>-0.994388</td>\n      <td>1.088213</td>\n      <td>0.333968</td>\n      <td>-0.994388</td>\n      <td>1.088213</td>\n    </tr>\n    <tr>\n      <th>2020-01-03</th>\n      <td>-0.262314</td>\n      <td>1.016805</td>\n      <td>-0.679889</td>\n      <td>-0.262314</td>\n      <td>1.016805</td>\n      <td>-0.679889</td>\n    </tr>\n    <tr>\n      <th>2020-01-04</th>\n      <td>0.463864</td>\n      <td>-0.742241</td>\n      <td>1.023765</td>\n      <td>0.463864</td>\n      <td>-0.742241</td>\n      <td>1.023765</td>\n    </tr>\n    <tr>\n      <th>2020-01-09</th>\n      <td>1.701771</td>\n      <td>-0.880685</td>\n      <td>-0.791397</td>\n      <td>1.701771</td>\n      <td>-0.880685</td>\n      <td>-0.791397</td>\n    </tr>\n    <tr>\n      <th>2020-01-10</th>\n      <td>-1.182890</td>\n      <td>0.732010</td>\n      <td>-1.763572</td>\n      <td>-1.182890</td>\n      <td>0.732010</td>\n      <td>-1.763572</td>\n    </tr>\n    <tr>\n      <th>...</th>\n      <td>...</td>\n      <td>...</td>\n      <td>...</td>\n      <td>...</td>\n      <td>...</td>\n      <td>...</td>\n    </tr>\n    <tr>\n      <th>2020-12-22</th>\n      <td>1.101037</td>\n      <td>-0.451099</td>\n      <td>-0.583519</td>\n      <td>1.101037</td>\n      <td>-0.451099</td>\n      <td>-0.583519</td>\n    </tr>\n    <tr>\n      <th>2020-12-23</th>\n      <td>-0.230069</td>\n      <td>0.510020</td>\n      <td>0.365622</td>\n      <td>-0.230069</td>\n      <td>0.510020</td>\n      <td>0.365622</td>\n    </tr>\n    <tr>\n      <th>2020-12-24</th>\n      <td>0.870217</td>\n      <td>-0.679586</td>\n      <td>0.045820</td>\n      <td>0.870217</td>\n      <td>-0.679586</td>\n      <td>0.045820</td>\n    </tr>\n    <tr>\n      <th>2020-12-28</th>\n      <td>-0.728514</td>\n      <td>-1.025533</td>\n      <td>-2.532032</td>\n      <td>-0.728514</td>\n      <td>-1.025533</td>\n      <td>-2.532032</td>\n    </tr>\n    <tr>\n      <th>2020-12-31</th>\n      <td>0.406920</td>\n      <td>-0.928457</td>\n      <td>-0.110924</td>\n      <td>0.406920</td>\n      <td>-0.928457</td>\n      <td>-0.110924</td>\n    </tr>\n  </tbody>\n</table>\n<p>201 rows × 6 columns</p>\n</div>"
     },
     "execution_count": 55,
     "metadata": {},
     "output_type": "execute_result"
    }
   ],
   "source": [
    "combined_match = combined_temporal_collocation(ref, (random, shifted), window, combined_dropna=True)\n",
    "# matched dataframe should have same length as matched_random_nn without NaNs\n",
    "assert len(combined_match == len(matched_random_nn.dropna()))\n",
    "combined_match"
   ]
  }
 ],
 "metadata": {
  "kernelspec": {
   "display_name": "Python [conda env:pytesmo]",
   "language": "python",
   "name": "conda-env-pytesmo-py"
  },
  "language_info": {
   "codemirror_mode": {
    "name": "ipython",
    "version": 3
   },
   "file_extension": ".py",
   "mimetype": "text/x-python",
   "name": "python",
   "nbconvert_exporter": "python",
   "pygments_lexer": "ipython3",
   "version": "3.8.8"
  }
 },
 "nbformat": 4,
 "nbformat_minor": 4
}
