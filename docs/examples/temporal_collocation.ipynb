{
 "cells": [
  {
   "cell_type": "markdown",
   "metadata": {},
   "source": [
    "# Temporal Collocation of irregularly sampled timeseries\n",
    "\n",
    "Satellite observations usually have an irregular temporal sampling pattern (intervals between 6-36 hours), which is mostly controlled by the orbit of the satellite and the instrument measurement geometry. On the other hand, in-situ instruments or land surface models generally sample on regular time intervals (commonly every 1, 3, 6, 12 or 24 hours). \n",
    "In order to compute error/performance statistics (such as RMSD, bias, correlation) between the time series coming from different sources, it is required that observation pairs (or triplets, etc.) are found which (nearly) coincide in time.\n",
    "\n",
    "A simple way to identify such pairs is by using a nearest neighbor search. First, one time series needs to be selected as temporal reference (i.e. all other time series will be matched to this reference) and second, a tolerance window (typically around 1-12 hours) has to be defined characterizing the temporal correlation of neighboring observation (i.e. observations outside of the tolerance window are no longer be considered as representative neighbors). "
   ]
  },
  {
   "cell_type": "markdown",
   "metadata": {},
   "source": [
    "## Temporal collocation in pytesmo\n",
    "\n",
    "Pytesmo contains the function `pytesmo.temporal_matching.temporal_collocation` for temporally collocating timeseries. Currently, it implements nearest neighbour matching and a windowed mean. It requires a reference index (can also be a DataFrame or a Series), a DataFrame (or Series) to be collocated, and a window.\n",
    "\n",
    "```\n",
    "collocated = temporal_collocation(reference, input_frame, window)\n",
    "```\n",
    "\n",
    "The window argument corresponds to the time intervals that are included in the nearest neighbour search in each direction, e.g. if the reference time is $t$ and the window $\\Delta$, the nearest neighbour inside $[t-\\Delta, t+\\Delta]$ is returned. If no neighbour is found `np.nan` is used as replacement. NaNs can be dropped from the returned dataframe by providing the optional keyword argument ``dropna=True`` to the function.\n",
    "\n",
    "Below are two simple examples which demonstrate the usage. The first example assumes that the index of data to be collocated is shifted by 3 hours with respect to the reference, while using a 6 hour window. The second example uses an index that is randomly shifted by $\\pm12$ hours with respect to the reference. The second example also uses a 6 hour window, which results in some missing values in the resulting dataframe."
   ]
  },
  {
   "cell_type": "code",
   "execution_count": 197,
   "metadata": {},
   "outputs": [],
   "source": [
    "import numpy as np\n",
    "import pandas as pd\n",
    "\n",
    "from pytesmo.temporal_matching import temporal_collocation, combined_temporal_collocation"
   ]
  },
  {
   "cell_type": "code",
   "execution_count": 198,
   "metadata": {},
   "outputs": [
    {
     "data": {
      "text/plain": "8986"
     },
     "metadata": {},
     "output_type": "display_data"
    },
    {
     "data": {
      "text/plain": "                     shifted_0  shifted_1  shifted_2\n2020-01-01 03:00:00   1.392975   0.007290  -0.091567\n2020-01-02 03:00:00  -0.194691   1.679196  -1.850968\n2020-01-03 03:00:00  -1.714833   0.151865   0.210909\n2020-01-04 03:00:00   0.431435  -1.431770  -0.693475\n2020-01-05 03:00:00  -1.749694   0.309578  -1.242280",
      "text/html": "<div>\n<style scoped>\n    .dataframe tbody tr th:only-of-type {\n        vertical-align: middle;\n    }\n\n    .dataframe tbody tr th {\n        vertical-align: top;\n    }\n\n    .dataframe thead th {\n        text-align: right;\n    }\n</style>\n<table border=\"1\" class=\"dataframe\">\n  <thead>\n    <tr style=\"text-align: right;\">\n      <th></th>\n      <th>shifted_0</th>\n      <th>shifted_1</th>\n      <th>shifted_2</th>\n    </tr>\n  </thead>\n  <tbody>\n    <tr>\n      <th>2020-01-01 03:00:00</th>\n      <td>1.392975</td>\n      <td>0.007290</td>\n      <td>-0.091567</td>\n    </tr>\n    <tr>\n      <th>2020-01-02 03:00:00</th>\n      <td>-0.194691</td>\n      <td>1.679196</td>\n      <td>-1.850968</td>\n    </tr>\n    <tr>\n      <th>2020-01-03 03:00:00</th>\n      <td>-1.714833</td>\n      <td>0.151865</td>\n      <td>0.210909</td>\n    </tr>\n    <tr>\n      <th>2020-01-04 03:00:00</th>\n      <td>0.431435</td>\n      <td>-1.431770</td>\n      <td>-0.693475</td>\n    </tr>\n    <tr>\n      <th>2020-01-05 03:00:00</th>\n      <td>-1.749694</td>\n      <td>0.309578</td>\n      <td>-1.242280</td>\n    </tr>\n  </tbody>\n</table>\n</div>"
     },
     "execution_count": 198,
     "metadata": {},
     "output_type": "execute_result"
    }
   ],
   "source": [
    "# create reference time series\n",
    "ref = pd.date_range(\"2020-01-01\", \"2020-12-31\", freq=\"D\")\n",
    "# temporal_collocation can also take a DataFrame or Series as reference input,\n",
    "# in case their index is a DatetimeIndex.\n",
    "\n",
    "#s = np.random.randint(0, 10000)\n",
    "s = 8986\n",
    "display(s)\n",
    "np.random.seed(s)\n",
    "\n",
    "# create other time series as dataframe\n",
    "values = np.random.randn(len(ref), 3)\n",
    "shifted = pd.DataFrame(values, index=ref + pd.Timedelta(hours=3), \n",
    "                       columns=list(map(lambda x: f\"shifted_{x}\", range(3))))\n",
    "random_shift = np.random.uniform(-12, 12, len(ref))\n",
    "random = pd.DataFrame(values, index=ref + pd.to_timedelta(random_shift, \"H\"),\n",
    "                      columns=list(map(lambda x: f\"random_{x}\", range(3))))\n",
    "\n",
    "shifted.head()"
   ]
  },
  {
   "cell_type": "code",
   "execution_count": 199,
   "metadata": {},
   "outputs": [
    {
     "data": {
      "text/plain": "                               random_0  random_1  random_2\n2020-01-01 09:29:24.978026400  1.392975  0.007290 -0.091567\n2020-01-02 03:10:29.384234400 -0.194691  1.679196 -1.850968\n2020-01-02 18:27:13.045078800 -1.714833  0.151865  0.210909\n2020-01-04 05:07:46.233933600  0.431435 -1.431770 -0.693475\n2020-01-04 17:21:02.166202800 -1.749694  0.309578 -1.242280",
      "text/html": "<div>\n<style scoped>\n    .dataframe tbody tr th:only-of-type {\n        vertical-align: middle;\n    }\n\n    .dataframe tbody tr th {\n        vertical-align: top;\n    }\n\n    .dataframe thead th {\n        text-align: right;\n    }\n</style>\n<table border=\"1\" class=\"dataframe\">\n  <thead>\n    <tr style=\"text-align: right;\">\n      <th></th>\n      <th>random_0</th>\n      <th>random_1</th>\n      <th>random_2</th>\n    </tr>\n  </thead>\n  <tbody>\n    <tr>\n      <th>2020-01-01 09:29:24.978026400</th>\n      <td>1.392975</td>\n      <td>0.007290</td>\n      <td>-0.091567</td>\n    </tr>\n    <tr>\n      <th>2020-01-02 03:10:29.384234400</th>\n      <td>-0.194691</td>\n      <td>1.679196</td>\n      <td>-1.850968</td>\n    </tr>\n    <tr>\n      <th>2020-01-02 18:27:13.045078800</th>\n      <td>-1.714833</td>\n      <td>0.151865</td>\n      <td>0.210909</td>\n    </tr>\n    <tr>\n      <th>2020-01-04 05:07:46.233933600</th>\n      <td>0.431435</td>\n      <td>-1.431770</td>\n      <td>-0.693475</td>\n    </tr>\n    <tr>\n      <th>2020-01-04 17:21:02.166202800</th>\n      <td>-1.749694</td>\n      <td>0.309578</td>\n      <td>-1.242280</td>\n    </tr>\n  </tbody>\n</table>\n</div>"
     },
     "execution_count": 199,
     "metadata": {},
     "output_type": "execute_result"
    }
   ],
   "source": [
    "random.head()"
   ]
  },
  {
   "cell_type": "markdown",
   "metadata": {},
   "source": [
    "We can now match the shifted timeseries to the reference index by using a 6-hour window, either for a nearest neighbour search, or for taking a windowed mean. Both should return unchanges timeseries, except for the index."
   ]
  },
  {
   "cell_type": "code",
   "execution_count": 200,
   "metadata": {},
   "outputs": [
    {
     "data": {
      "text/plain": "            shifted_0  shifted_1  shifted_2\n2020-01-01   1.392975   0.007290  -0.091567\n2020-01-02  -0.194691   1.679196  -1.850968\n2020-01-03  -1.714833   0.151865   0.210909\n2020-01-04   0.431435  -1.431770  -0.693475\n2020-01-05  -1.749694   0.309578  -1.242280\n...               ...        ...        ...\n2020-12-27   0.699663   0.845443   0.915548\n2020-12-28  -0.370373   1.175167   1.115263\n2020-12-29   1.249207   0.131250  -0.194463\n2020-12-30  -0.710291  -0.195270   1.587017\n2020-12-31  -1.250202   0.922963   1.455661\n\n[366 rows x 3 columns]",
      "text/html": "<div>\n<style scoped>\n    .dataframe tbody tr th:only-of-type {\n        vertical-align: middle;\n    }\n\n    .dataframe tbody tr th {\n        vertical-align: top;\n    }\n\n    .dataframe thead th {\n        text-align: right;\n    }\n</style>\n<table border=\"1\" class=\"dataframe\">\n  <thead>\n    <tr style=\"text-align: right;\">\n      <th></th>\n      <th>shifted_0</th>\n      <th>shifted_1</th>\n      <th>shifted_2</th>\n    </tr>\n  </thead>\n  <tbody>\n    <tr>\n      <th>2020-01-01</th>\n      <td>1.392975</td>\n      <td>0.007290</td>\n      <td>-0.091567</td>\n    </tr>\n    <tr>\n      <th>2020-01-02</th>\n      <td>-0.194691</td>\n      <td>1.679196</td>\n      <td>-1.850968</td>\n    </tr>\n    <tr>\n      <th>2020-01-03</th>\n      <td>-1.714833</td>\n      <td>0.151865</td>\n      <td>0.210909</td>\n    </tr>\n    <tr>\n      <th>2020-01-04</th>\n      <td>0.431435</td>\n      <td>-1.431770</td>\n      <td>-0.693475</td>\n    </tr>\n    <tr>\n      <th>2020-01-05</th>\n      <td>-1.749694</td>\n      <td>0.309578</td>\n      <td>-1.242280</td>\n    </tr>\n    <tr>\n      <th>...</th>\n      <td>...</td>\n      <td>...</td>\n      <td>...</td>\n    </tr>\n    <tr>\n      <th>2020-12-27</th>\n      <td>0.699663</td>\n      <td>0.845443</td>\n      <td>0.915548</td>\n    </tr>\n    <tr>\n      <th>2020-12-28</th>\n      <td>-0.370373</td>\n      <td>1.175167</td>\n      <td>1.115263</td>\n    </tr>\n    <tr>\n      <th>2020-12-29</th>\n      <td>1.249207</td>\n      <td>0.131250</td>\n      <td>-0.194463</td>\n    </tr>\n    <tr>\n      <th>2020-12-30</th>\n      <td>-0.710291</td>\n      <td>-0.195270</td>\n      <td>1.587017</td>\n    </tr>\n    <tr>\n      <th>2020-12-31</th>\n      <td>-1.250202</td>\n      <td>0.922963</td>\n      <td>1.455661</td>\n    </tr>\n  </tbody>\n</table>\n<p>366 rows × 3 columns</p>\n</div>"
     },
     "execution_count": 200,
     "metadata": {},
     "output_type": "execute_result"
    }
   ],
   "source": [
    "# match the regularly shifted data\n",
    "window = pd.Timedelta(hours=6)\n",
    "matched_shifted_nn = temporal_collocation(ref, shifted, window, method=\"nearest\")\n",
    "matched_shifted_mean = temporal_collocation(ref, shifted, window, method=\"mean\")\n",
    "\n",
    "# the data should be the same before and after matching for both methods\n",
    "assert np.all(shifted.values == matched_shifted_nn.values)\n",
    "assert np.all(shifted.values == matched_shifted_mean.values)\n",
    "\n",
    "matched_shifted_nn\n",
    "\n"
   ]
  },
  {
   "cell_type": "markdown",
   "metadata": {},
   "source": [
    "We can do the same for the randomly shifted timeseries. Here we should see some changes, because sometimes there's no value inside the window that we are looking at. However, the result of mean and nearest neighbour should be the same"
   ]
  },
  {
   "cell_type": "code",
   "execution_count": 201,
   "metadata": {},
   "outputs": [
    {
     "name": "stderr",
     "output_type": "stream",
     "text": [
      "/home/wpreimes/miniconda3/envs/pytesmo/lib/python3.9/site-packages/numba/np/ufunc/gufunc.py:151: RuntimeWarning: invalid value encountered in resample_mean\n",
      "  return self.ufunc(*args, **kwargs)\n"
     ]
    },
    {
     "ename": "AssertionError",
     "evalue": "\nArrays are not almost equal to 4 decimals\n\nMismatched elements: 87 / 170 (51.2%)\nMax absolute difference: 2.96073895\nMax relative difference: inf\n x: array([-0.1876, -1.7102,  0.4348, -1.7405, -0.8898,  0.3663, -0.3221,\n        0.6292, -0.9575, -1.0197,  1.5674, -0.0243,  0.5194, -0.1073,\n        0.5076, -0.9805, -0.5694,  1.4279, -0.8771, -0.3411,  0.2638,...\n y: array([0., 0., 0., 0., 0., 0., 0., 0., 0., 0., 0., 0., 0., 0., 0., 0., 0.,\n       0., 0., 0., 0., 0., 0., 0., 0., 0., 0., 0., 0., 0., 0., 0., 0., 0.,\n       0., 0., 0., 0., 0., 0., 0., 0., 0., 0., 0., 0., 0., 0., 0., 0., 0.,...",
     "output_type": "error",
     "traceback": [
      "\u001B[0;31m---------------------------------------------------------------------------\u001B[0m",
      "\u001B[0;31mAssertionError\u001B[0m                            Traceback (most recent call last)",
      "\u001B[0;32m/tmp/ipykernel_112012/3938927587.py\u001B[0m in \u001B[0;36m<module>\u001B[0;34m\u001B[0m\n\u001B[1;32m     14\u001B[0m                       data={'mean': matched_random_mean[c].values,\n\u001B[1;32m     15\u001B[0m                             'nn': matched_random_nn[c].values}).dropna()\n\u001B[0;32m---> 16\u001B[0;31m     np.testing.assert_almost_equal(\n\u001B[0m\u001B[1;32m     17\u001B[0m         \u001B[0mdf\u001B[0m\u001B[0;34m.\u001B[0m\u001B[0mdiff\u001B[0m\u001B[0;34m(\u001B[0m\u001B[0maxis\u001B[0m\u001B[0;34m=\u001B[0m\u001B[0;36m1\u001B[0m\u001B[0;34m)\u001B[0m\u001B[0;34m.\u001B[0m\u001B[0miloc\u001B[0m\u001B[0;34m[\u001B[0m\u001B[0;34m:\u001B[0m\u001B[0;34m,\u001B[0m \u001B[0;36m1\u001B[0m\u001B[0;34m]\u001B[0m\u001B[0;34m.\u001B[0m\u001B[0mvalues\u001B[0m\u001B[0;34m,\u001B[0m\u001B[0;34m\u001B[0m\u001B[0;34m\u001B[0m\u001B[0m\n\u001B[1;32m     18\u001B[0m         \u001B[0mnp\u001B[0m\u001B[0;34m.\u001B[0m\u001B[0mzeros\u001B[0m\u001B[0;34m(\u001B[0m\u001B[0mdf\u001B[0m\u001B[0;34m.\u001B[0m\u001B[0mindex\u001B[0m\u001B[0;34m.\u001B[0m\u001B[0msize\u001B[0m\u001B[0;34m)\u001B[0m\u001B[0;34m,\u001B[0m\u001B[0;34m\u001B[0m\u001B[0;34m\u001B[0m\u001B[0m\n",
      "    \u001B[0;31m[... skipping hidden 2 frame]\u001B[0m\n",
      "\u001B[0;32m~/miniconda3/envs/pytesmo/lib/python3.9/site-packages/numpy/testing/_private/utils.py\u001B[0m in \u001B[0;36massert_array_compare\u001B[0;34m(comparison, x, y, err_msg, verbose, header, precision, equal_nan, equal_inf)\u001B[0m\n\u001B[1;32m    842\u001B[0m                                 \u001B[0mverbose\u001B[0m\u001B[0;34m=\u001B[0m\u001B[0mverbose\u001B[0m\u001B[0;34m,\u001B[0m \u001B[0mheader\u001B[0m\u001B[0;34m=\u001B[0m\u001B[0mheader\u001B[0m\u001B[0;34m,\u001B[0m\u001B[0;34m\u001B[0m\u001B[0;34m\u001B[0m\u001B[0m\n\u001B[1;32m    843\u001B[0m                                 names=('x', 'y'), precision=precision)\n\u001B[0;32m--> 844\u001B[0;31m             \u001B[0;32mraise\u001B[0m \u001B[0mAssertionError\u001B[0m\u001B[0;34m(\u001B[0m\u001B[0mmsg\u001B[0m\u001B[0;34m)\u001B[0m\u001B[0;34m\u001B[0m\u001B[0;34m\u001B[0m\u001B[0m\n\u001B[0m\u001B[1;32m    845\u001B[0m     \u001B[0;32mexcept\u001B[0m \u001B[0mValueError\u001B[0m\u001B[0;34m:\u001B[0m\u001B[0;34m\u001B[0m\u001B[0;34m\u001B[0m\u001B[0m\n\u001B[1;32m    846\u001B[0m         \u001B[0;32mimport\u001B[0m \u001B[0mtraceback\u001B[0m\u001B[0;34m\u001B[0m\u001B[0;34m\u001B[0m\u001B[0m\n",
      "\u001B[0;31mAssertionError\u001B[0m: \nArrays are not almost equal to 4 decimals\n\nMismatched elements: 87 / 170 (51.2%)\nMax absolute difference: 2.96073895\nMax relative difference: inf\n x: array([-0.1876, -1.7102,  0.4348, -1.7405, -0.8898,  0.3663, -0.3221,\n        0.6292, -0.9575, -1.0197,  1.5674, -0.0243,  0.5194, -0.1073,\n        0.5076, -0.9805, -0.5694,  1.4279, -0.8771, -0.3411,  0.2638,...\n y: array([0., 0., 0., 0., 0., 0., 0., 0., 0., 0., 0., 0., 0., 0., 0., 0., 0.,\n       0., 0., 0., 0., 0., 0., 0., 0., 0., 0., 0., 0., 0., 0., 0., 0., 0.,\n       0., 0., 0., 0., 0., 0., 0., 0., 0., 0., 0., 0., 0., 0., 0., 0., 0.,..."
     ]
    }
   ],
   "source": [
    "# match the randomly shifted data\n",
    "matched_random_mean = temporal_collocation(ref, random, window, method=\"mean\")\n",
    "matched_random_nn = temporal_collocation(ref, random, window, method=\"nearest\")\n",
    "\n",
    "# the data should be the same as before matching at the locations where the shift\n",
    "# was below 6 hours, and should be np.nan when shift was larger\n",
    "should_be_nan = np.abs(random_shift) > 6\n",
    "\n",
    "assert np.all(matched_random_nn[~should_be_nan].values == random[~should_be_nan].values)\n",
    "assert np.all(np.isnan(matched_random_nn[should_be_nan].values))\n",
    "\n",
    "for c in matched_random_nn.columns:\n",
    "    df = pd.DataFrame(index=range(366),\n",
    "                      data={'mean': matched_random_mean[c].values,\n",
    "                            'nn': matched_random_nn[c].values}).dropna()\n",
    "    np.testing.assert_almost_equal(\n",
    "        df.diff(axis=1).iloc[:, 1].values,\n",
    "        np.zeros(df.index.size),\n",
    "        decimal=4)\n",
    "\n",
    "matched_random_nn"
   ]
  },
  {
   "cell_type": "markdown",
   "metadata": {},
   "source": [
    "### Returning the original index\n",
    "\n",
    "`temporal_collocation` can also return the original index of the data that was matched as a separate column in the resulting DataFrame, if required, and can additionally also calculate the distance to the reference. The column names are \"index_other\" and \"distance_other\", respectively."
   ]
  },
  {
   "cell_type": "code",
   "execution_count": null,
   "metadata": {},
   "outputs": [],
   "source": [
    "# also return original index and distance\n",
    "matched_shifted = temporal_collocation(\n",
    "    ref, shifted, window, \n",
    "    method=\"nearest\", \n",
    "    return_index=True, \n",
    "    return_distance=True\n",
    ")\n",
    "\n",
    "# the index should be the same as unmatched, and the distance should be 3  hours\n",
    "assert np.all(matched_shifted[\"index_other\"].values == shifted.index.values)\n",
    "assert np.all(matched_shifted[\"distance_other\"] == pd.Timedelta(hours=3))\n",
    "\n",
    "matched_shifted"
   ]
  },
  {
   "cell_type": "markdown",
   "metadata": {},
   "source": [
    "## Flags\n",
    "\n",
    "Satellite data often contains flags indicating quality issues with the data. With `temporal_collocation` it is possible to use this information. Flags can either be provided as array (of the same length as the input DataFrame), or the name of a column in the DataFrame to be used as flag can be provided as string. Any non-zero flag is interpreted as indicating invalid data. By default this will not be used, but when passing ``use_invalid=True``, the invalid values will be used in case no valid match was found.\n",
    "\n",
    "For the following example, we reuse the input data shifted by 3 hours, but we will now assume that the first 3 observations had quality issues."
   ]
  },
  {
   "cell_type": "code",
   "execution_count": null,
   "metadata": {},
   "outputs": [],
   "source": [
    "# flag the first 3 observations as invalid\n",
    "flag = np.zeros(len(ref), dtype=bool)\n",
    "flag[0:3] = True\n",
    "flag[0:10]"
   ]
  },
  {
   "cell_type": "code",
   "execution_count": null,
   "metadata": {},
   "outputs": [],
   "source": [
    "matched_flagged = temporal_collocation(ref, shifted, window, flag=flag)\n",
    "\n",
    "# the first 3 values should be NaN, otherwise the result should be the same as matched_shifted\n",
    "assert np.all(np.isnan(matched_flagged.values[0:3, :]))\n",
    "assert np.all(matched_flagged.values[3:, :] == matched_shifted.values[3:, 0:3])  # excluding additonal columns\n",
    "matched_flagged"
   ]
  },
  {
   "cell_type": "code",
   "execution_count": null,
   "metadata": {},
   "outputs": [],
   "source": [
    "# This also works when the flag is already in the input frame, but note that\n",
    "# in the output frame the nonzero flag values are replaced by NaN\n",
    "flagged = shifted.assign(my_flag=flag)\n",
    "matched_flagged = temporal_collocation(ref, flagged, window, flag=\"my_flag\")\n",
    "\n",
    "# the first 3 values should be NaN, otherwise the result should be the same as matched_shifted\n",
    "assert np.all(np.isnan(matched_flagged.iloc[0:3, 0:3].values))\n",
    "assert np.all(matched_flagged.iloc[3:, 0:3].values == matched_shifted.values[3:, 0:3])  # excluding additonal columns\n",
    "matched_flagged"
   ]
  },
  {
   "cell_type": "markdown",
   "metadata": {},
   "source": [
    "## Combined collocation\n",
    "\n",
    "It is also possible to match multiple timeseries together against a reference dataset using the function `pytesmo.temporal_matching.combined_temporal_collocation`. With the keyword argument `combined_dropna` it's possible to drop data where one of the input datasets has missing values from all other input datasets."
   ]
  },
  {
   "cell_type": "code",
   "execution_count": null,
   "metadata": {},
   "outputs": [],
   "source": [
    "combined_match = combined_temporal_collocation(ref, (random, shifted), window, combined_dropna=True)\n",
    "# matched dataframe should have same length as matched_random_nn without NaNs\n",
    "assert len(combined_match == len(matched_random_nn.dropna()))\n",
    "combined_match"
   ]
  }
 ],
 "metadata": {
  "kernelspec": {
   "display_name": "Python [conda env:pytesmo] *",
   "language": "python",
   "name": "conda-env-pytesmo-py"
  },
  "language_info": {
   "codemirror_mode": {
    "name": "ipython",
    "version": 3
   },
   "file_extension": ".py",
   "mimetype": "text/x-python",
   "name": "python",
   "nbconvert_exporter": "python",
   "pygments_lexer": "ipython3",
   "version": "3.9.9"
  }
 },
 "nbformat": 4,
 "nbformat_minor": 4
}
