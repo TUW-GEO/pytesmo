{
 "cells": [
  {
   "cell_type": "markdown",
   "metadata": {},
   "source": [
    "# The pytesmo validation framework\n",
    "\n",
    "The pytesmo validation framework takes care of iterating over datasets, spatial and temporal matching as well as\n",
    "scaling. It uses metric calculators to then calculate metrics that are returned to the user. There are several\n",
    "metrics calculators included in pytesmo but new ones can be added simply.\n",
    "\n",
    "## Overview\n",
    "\n",
    "How does the validation framework work? It makes these assumptions about the used datasets:\n",
    "\n",
    "- The dataset readers that are used have a `read_ts` method that can be called either by a grid point index (gpi)\n",
    "  which can be any indicator that identifies a certain grid point or by using longitude and latitude. This means that\n",
    "  both call signatures `read_ts(gpi)` and `read_ts(lon, lat)` must be valid. Please check the\n",
    "  [pygeobase](https://github.com/TUW-GEO/pygeobase) documentation for more details on how a fully compatible dataset\n",
    "  class should look. But a simple `read_ts` method should do for the validation framework. This assumption can be\n",
    "  relaxed by using the `read_ts_names` keyword in the pytesmo.validation_framework.data_manager.DataManager class.\n",
    "- The `read_ts` method returns a pandas.DataFrame time series.\n",
    "- Ideally the datasets classes also have a `grid` attribute that is a\n",
    "  [pygeogrids](http://pygeogrids.readthedocs.org/en/latest/) grid. This makes the calculation of lookup tables easily\n",
    "  possible and the nearest neighbor search faster.\n",
    "\n",
    "Fortunately these assumptions are true about the dataset readers included in pytesmo. \n",
    "\n",
    "It also makes a few assumptions about how to perform a validation. For a comparison study it is often necessary to\n",
    "choose a spatial reference grid, a temporal reference and a scaling or data space reference.\n",
    "\n",
    "### Spatial reference\n",
    "The spatial reference is the one to which all the other datasets are matched spatially. Often through nearest\n",
    "neighbor search. The validation framework uses grid points of the dataset specified as the spatial reference to\n",
    "spatially match all the other datasets with nearest neighbor search. Other, more sophisticated spatial matching\n",
    "algorithms are not implemented at the moment. If you need a more complex spatial matching then a preprocessing of\n",
    "the data is the only option at the moment.\n",
    "\n",
    "### Temporal reference\n",
    "The temporal reference is the dataset to which the other dataset are temporally matched. That means that the\n",
    "nearest observation to the reference timestamps in a certain time window is chosen for each comparison dataset.\n",
    "This is by default done by the temporal matching module included in pytesmo. How many datasets should be matched to\n",
    "the reference dataset at once can be configured, we will cover how to do this later.\n",
    "\n",
    "### Data space reference\n",
    "It is often necessary to bring all the datasets into a common data space by using. Scaling is often used for that\n",
    "and pytesmo offers a choice of several scaling algorithms (e.g. CDF matching, min-max scaling, mean-std scaling,\n",
    "triple collocation based scaling). The data space reference can also be chosen independently from the other two\n",
    "references.\n",
    "\n",
    "## Data Flow\n",
    "\n",
    "After it is initialized, the validation framework works through the following steps:\n",
    "\n",
    "1. Read all the datasets for a certain job (gpi, lon, lat)\n",
    "2. Read all the masking dataset if any\n",
    "3. Mask the temporal reference dataset using the masking data\n",
    "4. Temporally match all the chosen combinations of temporal reference and other datasets\n",
    "5. Turn the temporally matched time series over to the metric calculators\n",
    "6. Get the calculated metrics from the metric calculators\n",
    "7. Put all the metrics into a dictionary by dataset combination and return them.\n",
    "\n",
    "## Masking datasets\n",
    "Masking datasets can be used if the datasets that are compared do not contain the necessary information to mask\n",
    " them. For example we might want to use modelled soil temperature data to mask our soil moisture observations\n",
    "before comparing them. To be able to do that we just need a Dataset that returns a pandas.DataFrame with one column\n",
    " of boolean data type. Everywhere where the masking dataset is `True` the data will be masked.\n",
    "\n",
    "Let's look at a first example.\n",
    "\n",
    "## Example soil moisture validation: ASCAT - ISMN\n",
    "\n",
    "This example shows how to setup the pytesmo validation framework to perform a comparison between ASCAT and ISMN data. \n"
   ]
  },
  {
   "cell_type": "code",
   "execution_count": null,
   "metadata": {},
   "outputs": [],
   "source": [
    "from pathlib import Path\n",
    "\n",
    "import pytesmo.validation_framework.metric_calculators as metrics_calculators\n",
    "from datetime import datetime\n",
    "import warnings\n",
    "from ascat.read_native.cdr import AscatGriddedNcTs\n",
    "from ismn.interface import ISMN_Interface  # install ismn: 'pip install ismn'\n",
    "from pytesmo.validation_framework.validation import Validation\n",
    "from pytesmo.validation_framework.results_manager import netcdf_results_manager"
   ]
  },
  {
   "cell_type": "markdown",
   "metadata": {},
   "source": [
    "You need the test data from https://github.com/TUW-GEO/pytesmo-test-data for this example"
   ]
  },
  {
   "cell_type": "code",
   "execution_count": null,
   "metadata": {},
   "outputs": [],
   "source": [
    "from tempfile import mkdtemp\n",
    "output_folder = mkdtemp()\n",
    "print('Data is stored in:', output_folder)"
   ]
  },
  {
   "cell_type": "markdown",
   "metadata": {},
   "source": [
    "First we initialize the data readers that we want to use. In this case the ASCAT soil moisture time series and in\n",
    "situ data from the ISMN.\n",
    "\n",
    "Initialize ASCAT reader"
   ]
  },
  {
   "cell_type": "code",
   "execution_count": null,
   "metadata": {},
   "outputs": [],
   "source": [
    "testdata_path = Path(\".\").resolve().parent.parent / \"tests\" / \"test-data\"\n",
    "ascat_data_folder = testdata_path / \"sat\" / \"ascat\" / \"netcdf\" / \"55R22\"\n",
    "ascat_grid_fname = testdata_path / \"sat\" / \"ascat\" / \"netcdf\" / \"grid\" / \"TUW_WARP5_grid_info_2_1.nc\"\n",
    "static_layer_path = testdata_path / \"sat\" / \"h_saf\" / \"static_layer\"\n",
    "\n",
    "\n",
    "#init the AscatSsmCdr reader with the paths\n",
    "with warnings.catch_warnings():\n",
    "    warnings.filterwarnings('ignore') # some warnings are expected and ignored\n",
    "    \n",
    "    ascat_reader = AscatGriddedNcTs(\n",
    "        ascat_data_folder,\n",
    "        \"TUW_METOP_ASCAT_WARP55R22_{:04d}\",\n",
    "        grid_filename=ascat_grid_fname,\n",
    "        static_layer_path=static_layer_path\n",
    "    )\n",
    "ascat_reader.read_bulk = True"
   ]
  },
  {
   "cell_type": "markdown",
   "metadata": {},
   "source": [
    "Initialize ISMN reader"
   ]
  },
  {
   "cell_type": "code",
   "execution_count": null,
   "metadata": {},
   "outputs": [],
   "source": [
    "ismn_data_folder = testdata_path / \"ismn/multinetwork/header_values\"\n",
    "\n",
    "ismn_reader = ISMN_Interface(ismn_data_folder)"
   ]
  },
  {
   "cell_type": "markdown",
   "metadata": {},
   "source": [
    "The validation is run based on jobs. A job consists of at least three lists or numpy arrays specifing the grid\n",
    "point index, its latitude and longitude. In the case of the ISMN we can use the `dataset_ids` that identify every\n",
    "time series in the downloaded ISMN data as our grid point index. We can then get longitude and latitude from the\n",
    "metadata of the dataset.\n",
    "\n",
    "**DO NOT CHANGE** the name ***jobs*** because it will be searched during the parallel processing!"
   ]
  },
  {
   "cell_type": "code",
   "execution_count": null,
   "metadata": {},
   "outputs": [],
   "source": [
    "jobs = []\n",
    "\n",
    "ids = ismn_reader.get_dataset_ids(variable='soil moisture', min_depth=0, max_depth=0.1)\n",
    "for idx in ids:\n",
    "    metadata = ismn_reader.metadata[idx]\n",
    "    jobs.append((idx, metadata['longitude'], metadata['latitude']))\n",
    "\n",
    "print(\"Jobs (gpi, lon, lat):\")\n",
    "print(jobs)"
   ]
  },
  {
   "cell_type": "markdown",
   "metadata": {},
   "source": [
    "For this small test dataset it is only one job\n",
    "\n",
    "It is important here that the ISMN reader has a read_ts function that works by just using the `dataset_id`. In this\n",
    " way the validation framework can go through the jobs and read the correct time series."
   ]
  },
  {
   "cell_type": "code",
   "execution_count": null,
   "metadata": {},
   "outputs": [],
   "source": [
    "data = ismn_reader.read_ts(ids[0])\n",
    "print('ISMN data example:')\n",
    "print(data.head())"
   ]
  },
  {
   "cell_type": "markdown",
   "metadata": {},
   "source": [
    "## Initialize the Validation class\n",
    "\n",
    "The Validation class is the heart of the validation framework. It contains the information about which datasets to\n",
    "read using which arguments or keywords and if they are spatially compatible. It also contains the settings about\n",
    "which metric calculators to use and how to perform the scaling into the reference data space. It is initialized in\n",
    "the following way:\n"
   ]
  },
  {
   "cell_type": "code",
   "execution_count": null,
   "metadata": {},
   "outputs": [],
   "source": [
    "datasets = {\n",
    "    'ISMN': {\n",
    "        'class': ismn_reader,\n",
    "        'columns': ['soil moisture']\n",
    "    },\n",
    "    'ASCAT': {\n",
    "        'class': ascat_reader,\n",
    "        'columns': ['sm'],\n",
    "        'kwargs': {'mask_frozen_prob': 80,\n",
    "                   'mask_snow_prob': 80,\n",
    "                   'mask_ssf': True}\n",
    "    }}"
   ]
  },
  {
   "cell_type": "markdown",
   "metadata": {},
   "source": [
    "The datasets dictionary contains all the information about the datasets to read. The `class` is the dataset class\n",
    "to use which we have already initialized. The `columns` key describes which columns of the dataset interest us for\n",
    "validation. This a mandatory field telling the framework which other columns to ignore. In this case the columns\n",
    "`soil moisture_flag` and `soil moisture_orig_flag` will be ignored by the ISMN reader. We can also specify\n",
    "additional keywords that should be given to the `read_ts` method of the dataset reader. In this case we want the\n",
    "ASCAT reader to mask the ASCAT soil moisture using the included frozen and snow probabilities as well as the SSF.\n",
    "There are also other keys that can be used here. Please see the documentation for explanations."
   ]
  },
  {
   "cell_type": "code",
   "execution_count": null,
   "metadata": {},
   "outputs": [],
   "source": [
    "period = [datetime(2007, 1, 1), datetime(2014, 12, 31)]\n",
    "basic_metrics = metrics_calculators.BasicMetrics(other_name='k1')\n",
    "\n",
    "process = Validation(\n",
    "    datasets, 'ISMN',\n",
    "    temporal_ref='ASCAT',\n",
    "    scaling='lin_cdf_match',\n",
    "    scaling_ref='ASCAT',   \n",
    "    metrics_calculators={(2, 2): basic_metrics.calc_metrics},\n",
    "    period=period)"
   ]
  },
  {
   "cell_type": "markdown",
   "metadata": {},
   "source": [
    "During the initialization of the Validation class we can also tell it other things that it needs to know. In this\n",
    "case it uses the datasets we have specified earlier. The spatial reference is the `'ISMN'` dataset which is the\n",
    "second argument. The 'metrics_calculators' argument looks a little bit strange so let's look at it in more detail.\n",
    "\n",
    "It is a dictionary with a tuple as the key and a function as the value. The key tuple `(n, k)` has the following\n",
    "meaning: `n` datasets are temporally matched together and then given in sets of `k` columns to the metric\n",
    "calculator. The metric calculator then gets a DataFrame with the columns ['ref', 'k1', 'k2' ...] and so on\n",
    "depending on the value of k. The value of `(2, 2)` makes sense here since we only have two datasets and all our\n",
    "metrics also take two inputs.\n",
    "\n",
    "This can be used in more complex scenarios to e.g. have three input datasets that are all temporally matched\n",
    "together and then combinations of two input datasets are given to one metric calculator while all three datasets\n",
    "are given to another metric calculator. This could look like this:\n",
    "\n",
    "```python\n",
    "{ (3 ,2): metric_calc,\n",
    "  (3, 3): triple_collocation}\n",
    "```\n",
    "\n",
    "Create the variable ***save_path*** which is a string representing the path where the results will be saved.\n",
    "**DO NOT CHANGE** the name ***save_path*** because it will be searched during the parallel processing!"
   ]
  },
  {
   "cell_type": "code",
   "execution_count": null,
   "metadata": {},
   "outputs": [],
   "source": [
    "save_path = output_folder\n",
    "\n",
    "import pprint\n",
    "for job in jobs:\n",
    "    \n",
    "    results = process.calc(*job)\n",
    "    pprint.pprint(results)\n",
    "    netcdf_results_manager(results, save_path)"
   ]
  },
  {
   "cell_type": "markdown",
   "metadata": {},
   "source": [
    "The validation is then performed by looping over all the defined jobs and storing the results.\n",
    "You can see that the results are a dictionary where the key is a tuple defining the exact combination of datasets\n",
    "and columns that were used for the calculation of the metrics. The metrics itself are a dictionary of `metric-name:\n",
    " numpy.ndarray` which also include information about the gpi, lon and lat. Since all the information contained in\n",
    "the job is given to the metric calculator they can be stored in the results.\n",
    "\n",
    "Storing of the results to disk is at the moment supported by the `netcdf_results_manager` which creates a netCDF\n",
    "file for each dataset combination and stores each metric as a variable. We can inspect the stored netCDF file which\n",
    " is named after the dictionary key:"
   ]
  },
  {
   "cell_type": "code",
   "execution_count": null,
   "metadata": {},
   "outputs": [],
   "source": [
    "import netCDF4\n",
    "results_fname = Path(save_path) / \"ASCAT.sm_with_ISMN.soil moisture.nc\"\n",
    "\n",
    "with netCDF4.Dataset(str(results_fname)) as ds:\n",
    "    for var in ds.variables:\n",
    "        print(var, ds.variables[var][:])"
   ]
  },
  {
   "cell_type": "markdown",
   "metadata": {},
   "source": [
    "## Parallel processing\n",
    "\n",
    "The same code can be executed in parallel by defining the following `start_processing` function."
   ]
  },
  {
   "cell_type": "code",
   "execution_count": null,
   "metadata": {},
   "outputs": [],
   "source": [
    "def start_processing(job):\n",
    "    try:\n",
    "        return process.calc(*job)\n",
    "    except RuntimeError:\n",
    "        return process.calc(*job)"
   ]
  },
  {
   "cell_type": "markdown",
   "metadata": {},
   "source": [
    "`pytesmo.validation_framework.start_validation` can then be used to run your validation in parallel.\n",
    "Your setup code can look like this Ipython notebook without the loop over the jobs. Otherwise the validation would\n",
    "be done twice. Save it into a `.py` file e.g. `my_validation.py`.\n",
    "\n",
    "After [starting the ipyparallel cluster](http://ipyparallel.readthedocs.org/en/latest/process.html) you can then\n",
    "execute the following code:\n",
    "\n",
    "```python\n",
    "from pytesmo.validation_framework import start_validation\n",
    "\n",
    "# Note that before starting the validation you must start a controller\n",
    "# and engines, for example by using: ipcluster start -n 4\n",
    "# This command will launch a controller and 4 engines on the local machine.\n",
    "# Also, do not forget to change the setup_code path to your current setup.\n",
    "\n",
    "setup_code = \"my_validation.py\"\n",
    "start_validation(setup_code)\n",
    "```\n",
    "\n",
    "## Masking datasets\n",
    "\n",
    "Masking datasets are datasets that return a pandas DataFrame with boolean values. `True` means that the observation\n",
    " should be masked, `False` means it should be kept. All masking datasets are temporally matched in pairs to the\n",
    "temporal reference dataset. Only observations for which all masking datasets have a value of `False` are kept for\n",
    "further validation.\n",
    "\n",
    "The masking datasets have the same format as the dataset dictionary and can be specified in the Validation class\n",
    "with the `masking_datasets` keyword.\n",
    "\n",
    "### Masking adapter\n",
    "\n",
    "To easily transform an existing dataset into a masking dataset `pytesmo` offers a adapter class that calls the\n",
    "`read_ts` method of an existing dataset and creates a masking dataset based on an operator, a given threshold, and (optionally) a column name."
   ]
  },
  {
   "cell_type": "code",
   "execution_count": null,
   "metadata": {},
   "outputs": [],
   "source": [
    "from pytesmo.validation_framework.adapters import MaskingAdapter\n",
    "\n",
    "ds_mask = MaskingAdapter(ismn_reader, '<', 0.2, 'soil moisture')\n",
    "print(ds_mask.read_ts(ids[0]).head())"
   ]
  },
  {
   "cell_type": "markdown",
   "metadata": {},
   "source": [
    "### Self-masking adapter\n",
    "`pytesmo` also has a class that masks a dataset \"on-the-fly\", based on one of the columns it contains and an operator and a threshold. In contrast to the masking adapter mentioned above, the output of the self-masking adapter is the masked data, not the the mask. The self-masking adapter wraps a data reader, which must have a `read_ts` or `read` method. Calling its `read_ts`/`read` method will return the masked data - more precisely a DataFrame with only rows where the masking condition is true."
   ]
  },
  {
   "cell_type": "code",
   "execution_count": null,
   "metadata": {},
   "outputs": [],
   "source": [
    "from pytesmo.validation_framework.adapters import SelfMaskingAdapter\n",
    "\n",
    "ds_mask = SelfMaskingAdapter(ismn_reader, '<', 0.2, 'soil moisture')\n",
    "print(ds_mask.read_ts(ids[0]).head())"
   ]
  }
 ],
 "metadata": {
  "kernelspec": {
   "display_name": "Python [conda env:pytesmo]",
   "language": "python",
   "name": "conda-env-pytesmo-py"
  },
  "language_info": {
   "codemirror_mode": {
    "name": "ipython",
    "version": 3
   },
   "file_extension": ".py",
   "mimetype": "text/x-python",
   "name": "python",
   "nbconvert_exporter": "python",
   "pygments_lexer": "ipython3",
   "version": "3.8.8"
  },
  "pycharm": {
   "stem_cell": {
    "cell_type": "raw",
    "metadata": {
     "collapsed": false
    },
    "source": []
   }
  }
 },
 "nbformat": 4,
 "nbformat_minor": 4
}
