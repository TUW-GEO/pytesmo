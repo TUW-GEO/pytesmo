{
 "cells": [
  {
   "cell_type": "markdown",
   "metadata": {},
   "source": [
    "# The pytesmo validation framework\n",
    "\n",
    "The pytesmo validation framework takes care of iterating over datasets, spatial and temporal matching as well as\n",
    "scaling. It uses metric calculators to then calculate metrics that are returned to the user. There are several\n",
    "metrics calculators included in pytesmo but new ones can be added simply.\n",
    "\n",
    "## Overview\n",
    "\n",
    "How does the validation framework work? It makes these assumptions about the used datasets:\n",
    "\n",
    "- The dataset readers that are used have a method for reading data (usually called `read`) that can be called either by a grid point index (gpi) which can be any indicator that identifies a certain grid point or by using longitude and latitude. This means that both call signatures `read(gpi)` and `read(lon, lat)` must be valid. Please check the [pygeobase](https://github.com/TUW-GEO/pygeobase) documentation for more details on how a fully compatible dataset class should look. But a simple `read` method should do for the validation framework. This assumption can be relaxed by using the `read_ts_names` keyword in the pytesmo.validation_framework.data_manager.DataManager class.\n",
    "- **The reading method returns a pandas.DataFrame time series.**\n",
    "- Ideally the datasets classes also have a `grid` attribute that is a\n",
    "  [pygeogrids](http://pygeogrids.readthedocs.org/en/latest/) grid. This makes the calculation of lookup tables easily possible and the nearest neighbor search faster.\n",
    "\n",
    "Fortunately these assumptions are true about the dataset readers included in pytesmo. \n",
    "\n",
    "It also makes a few assumptions about how to perform a validation. For a comparison study it is often necessary to\n",
    "choose a spatial reference grid, a temporal reference and a scaling or data space reference.\n",
    "\n",
    "### Spatial reference\n",
    "The spatial reference is the one to which all the other datasets are matched spatially. Often through nearest\n",
    "neighbor search. The validation framework uses grid points of the dataset specified as the spatial reference to\n",
    "spatially match all the other datasets with nearest neighbor search. Other, more sophisticated spatial matching\n",
    "algorithms are not implemented at the moment. If you need a more complex spatial matching then a preprocessing of\n",
    "the data is the only option at the moment.\n",
    "\n",
    "### Temporal reference\n",
    "The temporal reference is the dataset to which the other dataset are temporally matched. That means that the\n",
    "nearest observation to the reference timestamps in a certain time window is chosen for each comparison dataset.\n",
    "This is by default done by the temporal matching module included in pytesmo. How many datasets should be matched to\n",
    "the reference dataset at once can be configured, we will cover how to do this later.\n",
    "\n",
    "### Data space reference\n",
    "It is often necessary to bring all the datasets into a common data space by using. Scaling is often used for that\n",
    "and pytesmo offers a choice of several scaling algorithms (e.g. CDF matching, min-max scaling, mean-std scaling,\n",
    "triple collocation based scaling). The data space reference can also be chosen independently from the other two\n",
    "references.\n",
    "\n",
    "## Data Flow\n",
    "\n",
    "After it is initialized, the validation framework works through the following steps:\n",
    "\n",
    "1. Read all the datasets for a certain job (gpi, lon, lat)\n",
    "2. Read all the masking dataset if any\n",
    "3. Mask the temporal reference dataset using the masking data\n",
    "4. Temporally match all the chosen combinations of temporal reference and other datasets\n",
    "5. Turn the temporally matched time series over to the metric calculators\n",
    "6. Get the calculated metrics from the metric calculators\n",
    "7. Put all the metrics into a dictionary by dataset combination and return them.\n",
    "\n",
    "## Masking datasets\n",
    "Masking datasets can be used if the datasets that are compared do not contain the necessary information to mask\n",
    " them. For example we might want to use modelled soil temperature data to mask our soil moisture observations\n",
    "before comparing them. To be able to do that we just need a Dataset that returns a pandas.DataFrame with one column\n",
    " of boolean data type. Everywhere where the masking dataset is `True` the data will be masked.\n",
    "\n",
    "Let's look at a first example.\n",
    "\n",
    "## Example soil moisture validation: ASCAT - ISMN\n",
    "\n",
    "This example shows how to setup the pytesmo validation framework to perform a comparison between ASCAT and ISMN data. \n"
   ]
  },
  {
   "cell_type": "code",
   "execution_count": 1,
   "metadata": {},
   "outputs": [],
   "source": [
    "import os\n",
    "import numpy as np\n",
    "from pathlib import Path\n",
    "from pprint import pprint\n",
    "import pytesmo.validation_framework.metric_calculators as metrics_calculators\n",
    "from datetime import datetime\n",
    "import warnings\n",
    "from ascat.read_native.cdr import AscatGriddedNcTs\n",
    "\n",
    "from ismn.interface import ISMN_Interface  # install ismn: 'pip install ismn'\n",
    "from pytesmo.validation_framework.validation import Validation\n",
    "from pytesmo.validation_framework.results_manager import netcdf_results_manager\n",
    "from pytesmo.utils import rootdir\n",
    "\n",
    "import tempfile"
   ]
  },
  {
   "cell_type": "markdown",
   "metadata": {},
   "source": [
    "You need the test data from https://github.com/TUW-GEO/pytesmo-test-data for this example"
   ]
  },
  {
   "cell_type": "code",
   "execution_count": 2,
   "metadata": {},
   "outputs": [
    {
     "name": "stdout",
     "output_type": "stream",
     "text": [
      "Data is stored in: /tmp/tmppeisd__e\n"
     ]
    }
   ],
   "source": [
    "from tempfile import mkdtemp\n",
    "output_folder = Path(mkdtemp())\n",
    "print('Data is stored in:', output_folder)"
   ]
  },
  {
   "cell_type": "markdown",
   "metadata": {},
   "source": [
    "First we initialize the data readers that we want to use. In this case the ASCAT soil moisture time series and in\n",
    "situ data from the ISMN.\n",
    "\n",
    "Initialize ASCAT reader"
   ]
  },
  {
   "cell_type": "code",
   "execution_count": 3,
   "metadata": {},
   "outputs": [],
   "source": [
    "testdata_path = rootdir() / \"tests\" / \"test-data\"\n",
    "ascat_data_folder = testdata_path / \"sat\" / \"ascat\" / \"netcdf\" / \"55R22\"\n",
    "ascat_grid_fname = testdata_path / \"sat\" / \"ascat\" / \"netcdf\" / \"grid\" / \"TUW_WARP5_grid_info_2_1.nc\"\n",
    "static_layer_path = testdata_path / \"sat\" / \"h_saf\" / \"static_layer\"\n",
    "\n",
    "\n",
    "#init the AscatSsmCdr reader with the paths\n",
    "with warnings.catch_warnings():\n",
    "    warnings.filterwarnings('ignore') # some warnings are expected and ignored\n",
    "    \n",
    "    ascat_reader = AscatGriddedNcTs(\n",
    "        ascat_data_folder,\n",
    "        \"TUW_METOP_ASCAT_WARP55R22_{:04d}\",\n",
    "        grid_filename=ascat_grid_fname,\n",
    "        static_layer_path=static_layer_path\n",
    "    )\n",
    "\n",
    "ascat_reader.read_bulk = True"
   ]
  },
  {
   "cell_type": "markdown",
   "metadata": {},
   "source": [
    "Initialize ISMN reader"
   ]
  },
  {
   "cell_type": "code",
   "execution_count": 4,
   "metadata": {},
   "outputs": [
    {
     "name": "stdout",
     "output_type": "stream",
     "text": [
      "Processing metadata for all ismn stations into folder /home/wpreimes/shares/home/code/pytesmo/tests/test-data/ismn/multinetwork/header_values.\n",
      "This may take a few minutes, but is only done once...\n",
      "Hint: Use `parallel=True` to speed up metadata generation for large datasets\n"
     ]
    },
    {
     "name": "stderr",
     "output_type": "stream",
     "text": [
      "Files Processed: 100%|██████████| 8/8 [00:00<00:00, 65.44it/s]"
     ]
    },
    {
     "name": "stdout",
     "output_type": "stream",
     "text": [
      "Metadata generation finished after 0 Seconds.\n",
      "Metadata and Log stored in /tmp/tmp_72gspsz\n",
      "Found existing ismn metadata in /tmp/tmp_72gspsz/header_values.csv.\n"
     ]
    },
    {
     "name": "stderr",
     "output_type": "stream",
     "text": [
      "\n"
     ]
    }
   ],
   "source": [
    "ismn_data_folder = testdata_path / \"ismn/multinetwork/header_values\"\n",
    "meta_path = tempfile.mkdtemp()\n",
    "ismn_reader = ISMN_Interface(ismn_data_folder, meta_path=meta_path)"
   ]
  },
  {
   "cell_type": "markdown",
   "metadata": {},
   "source": [
    "The validation is run based on jobs. A job consists of at least three lists or numpy arrays specifing the grid\n",
    "point index, its latitude and longitude. In the case of the ISMN we can use the `dataset_ids` that identify every\n",
    "time series in the downloaded ISMN data as our grid point index. We can then get longitude and latitude from the\n",
    "metadata of the dataset.\n",
    "\n",
    "**DO NOT CHANGE** the name ***jobs*** because it will be searched during the parallel processing!"
   ]
  },
  {
   "cell_type": "code",
   "execution_count": 5,
   "metadata": {
    "pycharm": {
     "name": "#%%\n"
    }
   },
   "outputs": [
    {
     "name": "stdout",
     "output_type": "stream",
     "text": [
      "Jobs (gpi, lon, lat):\n",
      "[(0, 102.1333, 33.8833)]\n"
     ]
    }
   ],
   "source": [
    "jobs = []\n",
    "\n",
    "ids = ismn_reader.get_dataset_ids(variable='soil_moisture', min_depth=0, max_depth=0.1)\n",
    "\n",
    "for idx in ids:\n",
    "    metadata = ismn_reader.read_metadata(idx)\n",
    "    jobs.append((idx, metadata['longitude'].val, metadata['latitude'].val))\n",
    "    break\n",
    "\n",
    "print(\"Jobs (gpi, lon, lat):\")\n",
    "print(jobs)"
   ]
  },
  {
   "cell_type": "markdown",
   "metadata": {},
   "source": [
    "For this example we only process one job / pixel / sensor.\n",
    "\n",
    "It is important here that the ISMN reader has a reading function that works by just using the `dataset_id`. In this\n",
    " way the validation framework can go through the jobs and read the correct time series."
   ]
  },
  {
   "cell_type": "code",
   "execution_count": 6,
   "metadata": {},
   "outputs": [
    {
     "name": "stdout",
     "output_type": "stream",
     "text": [
      "ISMN data example:\n",
      "                     soil_moisture soil_moisture_flag soil_moisture_orig_flag\n",
      "date_time                                                                    \n",
      "2008-07-01 00:00:00            0.5                C03                       M\n",
      "2008-07-01 01:00:00            0.5                C03                       M\n",
      "2008-07-01 02:00:00            0.5                C03                       M\n",
      "2008-07-01 03:00:00            0.5                C03                       M\n",
      "2008-07-01 04:00:00            0.5                C03                       M\n"
     ]
    }
   ],
   "source": [
    "data = ismn_reader.read(ids[0])\n",
    "print('ISMN data example:')\n",
    "print(data.head())"
   ]
  },
  {
   "cell_type": "markdown",
   "metadata": {},
   "source": [
    "## Initialize the Validation class\n",
    "\n",
    "The Validation class is the heart of the validation framework. It contains the information about which datasets to\n",
    "read using which arguments or keywords and if they are spatially compatible. It also contains the settings about\n",
    "which metric calculators to use and how to perform the scaling into the reference data space. It is initialized in\n",
    "the following way:\n"
   ]
  },
  {
   "cell_type": "code",
   "execution_count": 7,
   "metadata": {},
   "outputs": [],
   "source": [
    "datasets = {\n",
    "    'ISMN': {\n",
    "        'class': ismn_reader,\n",
    "        'columns': ['soil_moisture']\n",
    "    },\n",
    "    'ASCAT': {\n",
    "        'class': ascat_reader,\n",
    "        'columns': ['sm'],\n",
    "        'kwargs': {'mask_frozen_prob': 80,\n",
    "                   'mask_snow_prob': 80,\n",
    "                   'mask_ssf': True}\n",
    "    }}"
   ]
  },
  {
   "cell_type": "markdown",
   "metadata": {},
   "source": [
    "The datasets dictionary contains all the information about the datasets to read. The `class` is the dataset class\n",
    "to use which we have already initialized. The `columns` key describes which columns of the dataset interest us for\n",
    "validation. This a mandatory field telling the framework which other columns to ignore. In this case the columns\n",
    "`soil moisture_flag` and `soil moisture_orig_flag` will be ignored by the ISMN reader. We can also specify\n",
    "additional keywords that should be given to the `read` method of the dataset reader. In this case we want the\n",
    "ASCAT reader to mask the ASCAT soil moisture using the included frozen and snow probabilities as well as the SSF.\n",
    "There are also other keys that can be used here. Please see the documentation for explanations."
   ]
  },
  {
   "cell_type": "code",
   "execution_count": 10,
   "metadata": {},
   "outputs": [
    {
     "name": "stderr",
     "output_type": "stream",
     "text": [
      "/home/wpreimes/shares/home/code/pytesmo/src/pytesmo/validation_framework/validation.py:144: UserWarning: You are using the default temporal matcher. If you are using one of the newer metric calculators (PairwiseIntercomparisonMetrics, TripleCollocationMetrics) you should probably use `make_combined_temporal_matcher` instead. Have a look at the documentation of the metric calculators for more info.\n",
      "  warnings.warn(\n"
     ]
    }
   ],
   "source": [
    "period = [datetime(2007, 1, 1), datetime(2014, 12, 31)]\n",
    "basic_metrics = metrics_calculators.PairwiseIntercomparisonMetrics()\n",
    "\n",
    "process = Validation(\n",
    "    datasets, 'ISMN',\n",
    "    temporal_ref='ASCAT',\n",
    "    scaling='mean_std',\n",
    "    scaling_ref='ASCAT',\n",
    "    metrics_calculators={(2, 2): basic_metrics.calc_metrics},\n",
    "    period=period)"
   ]
  },
  {
   "cell_type": "markdown",
   "metadata": {},
   "source": [
    "During the initialization of the Validation class we can also tell it other things that it needs to know. In this\n",
    "case it uses the datasets we have specified earlier. The spatial reference is the `'ISMN'` dataset which is the\n",
    "second argument. The 'metrics_calculators' argument looks a little bit strange so let's look at it in more detail.\n",
    "\n",
    "It is a dictionary with a tuple as the key and a function as the value. The key tuple `(n, k)` has the following\n",
    "meaning: `n` datasets are temporally matched together and then given in sets of `k` columns to the metric\n",
    "calculator. The metric calculator then gets a DataFrame with the columns ['ref', 'k1', 'k2' ...] and so on\n",
    "depending on the value of k. The value of `(2, 2)` makes sense here since we only have two datasets and all our\n",
    "metrics also take two inputs.\n",
    "\n",
    "This can be used in more complex scenarios to e.g. have three input datasets that are all temporally matched\n",
    "together and then combinations of two input datasets are given to one metric calculator while all three datasets\n",
    "are given to another metric calculator. This could look like this:\n",
    "\n",
    "```\n",
    "{ (3 ,2): metric_calc,\n",
    "  (3, 3): triple_collocation}\n",
    "```\n",
    "\n",
    "Create the variable ***save_path*** which is a string representing the path where the results will be saved.\n",
    "**DO NOT CHANGE** the name ***save_path*** because it will be searched during the parallel processing!"
   ]
  },
  {
   "cell_type": "code",
   "execution_count": 11,
   "metadata": {},
   "outputs": [
    {
     "name": "stdout",
     "output_type": "stream",
     "text": [
      "{(('ASCAT', 'sm'), ('ISMN', 'soil_moisture')): {'BIAS': array([1.4210855e-14], dtype=float32),\n",
      "                                                'BIAS_ci_lower': array([-1.124606], dtype=float32),\n",
      "                                                'BIAS_ci_upper': array([1.124606], dtype=float32),\n",
      "                                                'R': array([0.5342869], dtype=float32),\n",
      "                                                'RMSD': array([10.789426], dtype=float32),\n",
      "                                                'RSS': array([41558.98], dtype=float32),\n",
      "                                                'R_ci_lower': array([0.45576647], dtype=float32),\n",
      "                                                'R_ci_upper': array([0.60455596], dtype=float32),\n",
      "                                                'gpi': array([0], dtype=int32),\n",
      "                                                'lat': array([33.8833]),\n",
      "                                                'lon': array([102.1333]),\n",
      "                                                'mse': array([116.41171], dtype=float32),\n",
      "                                                'mse_bias': array([2.019484e-28], dtype=float32),\n",
      "                                                'mse_corr': array([116.41171], dtype=float32),\n",
      "                                                'mse_var': array([3.1554436e-30], dtype=float32),\n",
      "                                                'n_obs': array([357], dtype=int32),\n",
      "                                                'p_R': array([9.664754e-28], dtype=float32),\n",
      "                                                'p_rho': array([2.471651e-28], dtype=float32),\n",
      "                                                'p_tau': array([2.1020434e-26], dtype=float32),\n",
      "                                                'rho': array([0.53934574], dtype=float32),\n",
      "                                                'rho_ci_lower': array([0.45559874], dtype=float32),\n",
      "                                                'rho_ci_upper': array([0.61362934], dtype=float32),\n",
      "                                                'status': array([0], dtype=int32),\n",
      "                                                'tau': array([0.3907124], dtype=float32),\n",
      "                                                'tau_ci_lower': array([0.35201582], dtype=float32),\n",
      "                                                'tau_ci_upper': array([0.42807564], dtype=float32),\n",
      "                                                'urmsd': array([10.789426], dtype=float32),\n",
      "                                                'urmsd_ci_lower': array([10.065898], dtype=float32),\n",
      "                                                'urmsd_ci_upper': array([11.661137], dtype=float32)}}\n"
     ]
    }
   ],
   "source": [
    "save_path = output_folder / 'ascat_ismn'\n",
    "\n",
    "for job in jobs:\n",
    "\n",
    "    results = process.calc(*job)\n",
    "    pprint(results)\n",
    "    netcdf_results_manager(results, save_path)"
   ]
  },
  {
   "cell_type": "markdown",
   "metadata": {},
   "source": [
    "The validation is then performed by looping over all the defined jobs and storing the results.\n",
    "You can see that the results are a dictionary where the key is a tuple defining the exact combination of datasets\n",
    "and columns that were used for the calculation of the metrics. The metrics itself are a dictionary of `metric-name:\n",
    " numpy.ndarray` which also include information about the gpi, lon and lat. Since all the information contained in\n",
    "the job is given to the metric calculator they can be stored in the results.\n",
    "\n",
    "Storing of the results to disk is at the moment supported by the `netcdf_results_manager` which creates a netCDF\n",
    "file for each dataset combination and stores each metric as a variable. We can inspect the stored netCDF file which\n",
    " is named after the dictionary key:"
   ]
  },
  {
   "cell_type": "code",
   "execution_count": 12,
   "metadata": {},
   "outputs": [
    {
     "name": "stdout",
     "output_type": "stream",
     "text": [
      "lon [102.1333]\n",
      "lat [33.8833]\n",
      "idx [0]\n",
      "_row_size [0]\n",
      "time []\n",
      "gpi [0]\n",
      "status [0]\n",
      "R [0.5342869]\n",
      "p_R [9.664754e-28]\n",
      "BIAS [1.4210855e-14]\n",
      "RMSD [10.789426]\n",
      "mse [116.41171]\n",
      "RSS [41558.98]\n",
      "mse_corr [116.41171]\n",
      "mse_bias [2.019484e-28]\n",
      "urmsd [10.789426]\n",
      "mse_var [3.1554436e-30]\n",
      "rho [0.53934574]\n",
      "p_rho [2.471651e-28]\n",
      "tau [0.3907124]\n",
      "p_tau [2.1020434e-26]\n",
      "BIAS_ci_lower [-1.124606]\n",
      "BIAS_ci_upper [1.124606]\n",
      "urmsd_ci_lower [10.065898]\n",
      "urmsd_ci_upper [11.661137]\n",
      "R_ci_lower [0.45576647]\n",
      "R_ci_upper [0.60455596]\n",
      "rho_ci_lower [0.45559874]\n",
      "rho_ci_upper [0.61362934]\n",
      "tau_ci_lower [0.35201582]\n",
      "tau_ci_upper [0.42807564]\n",
      "n_obs [357]\n"
     ]
    }
   ],
   "source": [
    "import netCDF4\n",
    "results_fname = Path(save_path) / \"ASCAT.sm_with_ISMN.soil_moisture.nc\"\n",
    "\n",
    "with netCDF4.Dataset(str(results_fname)) as ds:\n",
    "    for var in ds.variables:\n",
    "        print(var, ds.variables[var][:])"
   ]
  },
  {
   "cell_type": "markdown",
   "metadata": {
    "pycharm": {
     "name": "#%% md\n"
    }
   },
   "source": [
    "## Metric Calculator Adapters\n",
    "\n",
    "Metric calculators compute a set of comparison metrics based on the passed input. Usually the input are two or more collocated time series. However, to validate soil moisture it is often desired to assess the quality for certain temporal subsets independently. E.g. if a varying level of agreement between two datasets is expected for two different seasons (e.g. wet/dry season, summer/winter) or if the varying level of agreement should be assessed (e.g. on a seasonal/monthly basis). In this case pytesmo provides adapters to split up the input time series before computing validation metrics. These adapters work with any (properly implemented) metric calculator. You can use one of the predefined adapters in `pytesmo.validation_framework.metric_calculators_adapters`. Currently, there are 2 options:\n",
    "\n",
    "- `SubsetsMetricsAdapter`: This adapter lets you define arbitrary temporal subsets of your time series data before metrics computation. You can compute metrics for a certain set of datetimes or datetime ranges.\n",
    "    - `MonthsMetricsAdapter`: This is a version of a SubsetsMetricsAdapter that allows splitting up the data based on their month. You can e.g. compute validation metrics for each month of a year individually, or for each season (i.e. 3 * 4 months), or any other combination of months.\n",
    "\n",
    "Let's look at an example. Here we use the base `SubsetsMetricsAdapter`. We compute the same metrics as before, but apply the metrics calculator to a set of predefined temporal subgroups. Note that groups in this example were chosen to demonstrate the feature range of the `TsDistributor` rather than to produce meaningful results.\n",
    "\n",
    "We create a SubsetsMetricsAdapter that takes the original metrics calculator and a list of named, temporal subsets (dict).\n"
   ]
  },
  {
   "cell_type": "code",
   "execution_count": 13,
   "metadata": {
    "pycharm": {
     "name": "#%%\n"
    }
   },
   "outputs": [],
   "source": [
    "import os\n",
    "from pytesmo.validation_framework.metric_calculators_adapters import SubsetsMetricsAdapter, TsDistributor\n",
    "from pytesmo.time_series.grouping import YearlessDatetime\n",
    "from datetime import datetime\n",
    "import shutil\n",
    "\n",
    "subsets = {\n",
    "    # The first subset does only include values in August 2010 and 2011 + July 31st of both years\n",
    "    'August2010/11': TsDistributor(dates=[datetime(year=2009, month=7, day=31), datetime(2010, 7, 31)],\n",
    "                                   date_ranges=[(datetime(2010, 7, 1, 0, 0), datetime(2010, 7, 31)),\n",
    "                                                (datetime(2011, 7, 1), datetime(2011, 7, 31))]),\n",
    "    \n",
    "    # The second subset includes all values from June to September of ANY YEAR, but not August\n",
    "    'JJS': TsDistributor(yearless_date_ranges=[\n",
    "        (YearlessDatetime(month=6, day=1, hour=0, minute=0), YearlessDatetime(7, 31)),\n",
    "        (YearlessDatetime(9, 1), YearlessDatetime(9, 30))\n",
    "    ]),\n",
    "    \n",
    "    # The third group includes all values from Feb 28th to the end of April of ANY YEAR\n",
    "    'MarchApril': TsDistributor(yearless_date_ranges=[(YearlessDatetime(2, 28), YearlessDatetime(4, 30))]),\n",
    "}\n",
    "\n",
    "adapted_intercomparison_metrics = SubsetsMetricsAdapter(\n",
    "    metrics_calculators.PairwiseIntercomparisonMetrics(calc_kendall=False, calc_spearman=False),\n",
    "    subsets,\n",
    "    group_results='join')\n"
   ]
  },
  {
   "cell_type": "markdown",
   "metadata": {
    "pycharm": {
     "name": "#%% md\n"
    }
   },
   "source": [
    "The adapted metrics calculator can now be used as before. The results will contain the chosen group names accordingly, as defined in the adapter. The results manager will write them to a netcdf file. Note that this only works as `group_results='join'` was selected, otherwise the output format would different from what the results manager expects."
   ]
  },
  {
   "cell_type": "code",
   "execution_count": 14,
   "metadata": {
    "pycharm": {
     "name": "#%%\n"
    }
   },
   "outputs": [
    {
     "name": "stdout",
     "output_type": "stream",
     "text": [
      "{(('ASCAT', 'sm'), ('ISMN', 'soil_moisture')): {'August2010/11|BIAS': array([0.02893662], dtype=float32),\n",
      "                                                'August2010/11|BIAS_ci_lower': array([0.01474692], dtype=float32),\n",
      "                                                'August2010/11|BIAS_ci_upper': array([0.04312633], dtype=float32),\n",
      "                                                'August2010/11|R': array([0.7176565], dtype=float32),\n",
      "                                                'August2010/11|RMSD': array([0.04613708], dtype=float32),\n",
      "                                                'August2010/11|RSS': array([0.05960163], dtype=float32),\n",
      "                                                'August2010/11|R_ci_lower': array([0.47057065], dtype=float32),\n",
      "                                                'August2010/11|R_ci_upper': array([0.8603755], dtype=float32),\n",
      "                                                'August2010/11|mse': array([0.00212863], dtype=float32),\n",
      "                                                'August2010/11|mse_bias': array([0.00083733], dtype=float32),\n",
      "                                                'August2010/11|mse_corr': array([0.00128012], dtype=float32),\n",
      "                                                'August2010/11|mse_var': array([1.1178111e-05], dtype=float32),\n",
      "                                                'August2010/11|n_obs': array([28], dtype=int32),\n",
      "                                                'August2010/11|p_R': array([1.718043e-05], dtype=float32),\n",
      "                                                'August2010/11|status': array([0], dtype=int32),\n",
      "                                                'August2010/11|urmsd': array([0.03593468], dtype=float32),\n",
      "                                                'August2010/11|urmsd_ci_lower': array([0.02893201], dtype=float32),\n",
      "                                                'August2010/11|urmsd_ci_upper': array([0.04980955], dtype=float32),\n",
      "                                                'JJS|BIAS': array([0.02439872], dtype=float32),\n",
      "                                                'JJS|BIAS_ci_lower': array([0.01300029], dtype=float32),\n",
      "                                                'JJS|BIAS_ci_upper': array([0.03579714], dtype=float32),\n",
      "                                                'JJS|R': array([0.43224052], dtype=float32),\n",
      "                                                'JJS|RMSD': array([0.08166534], dtype=float32),\n",
      "                                                'JJS|RSS': array([1.2204688], dtype=float32),\n",
      "                                                'JJS|R_ci_lower': array([0.3063946], dtype=float32),\n",
      "                                                'JJS|R_ci_upper': array([0.54323655], dtype=float32),\n",
      "                                                'JJS|mse': array([0.00666923], dtype=float32),\n",
      "                                                'JJS|mse_bias': array([0.0005953], dtype=float32),\n",
      "                                                'JJS|mse_corr': array([0.00590448], dtype=float32),\n",
      "                                                'JJS|mse_var': array([0.00016945], dtype=float32),\n",
      "                                                'JJS|n_obs': array([183], dtype=int32),\n",
      "                                                'JJS|p_R': array([9.96128e-10], dtype=float32),\n",
      "                                                'JJS|status': array([0], dtype=int32),\n",
      "                                                'JJS|urmsd': array([0.07793543], dtype=float32),\n",
      "                                                'JJS|urmsd_ci_lower': array([0.07087912], dtype=float32),\n",
      "                                                'JJS|urmsd_ci_upper': array([0.0870943], dtype=float32),\n",
      "                                                'MarchApril|BIAS': array([-0.0636023], dtype=float32),\n",
      "                                                'MarchApril|BIAS_ci_lower': array([-0.07745089], dtype=float32),\n",
      "                                                'MarchApril|BIAS_ci_upper': array([-0.0497537], dtype=float32),\n",
      "                                                'MarchApril|R': array([0.8920552], dtype=float32),\n",
      "                                                'MarchApril|RMSD': array([0.07466082], dtype=float32),\n",
      "                                                'MarchApril|RSS': array([0.1895241], dtype=float32),\n",
      "                                                'MarchApril|R_ci_lower': array([0.7931545], dtype=float32),\n",
      "                                                'MarchApril|R_ci_upper': array([0.94511515], dtype=float32),\n",
      "                                                'MarchApril|mse': array([0.00557424], dtype=float32),\n",
      "                                                'MarchApril|mse_bias': array([0.00404525], dtype=float32),\n",
      "                                                'MarchApril|mse_corr': array([0.00138048], dtype=float32),\n",
      "                                                'MarchApril|mse_var': array([0.0001485], dtype=float32),\n",
      "                                                'MarchApril|n_obs': array([34], dtype=int32),\n",
      "                                                'MarchApril|p_R': array([1.4273317e-12], dtype=float32),\n",
      "                                                'MarchApril|status': array([0], dtype=int32),\n",
      "                                                'MarchApril|urmsd': array([0.03910225], dtype=float32),\n",
      "                                                'MarchApril|urmsd_ci_lower': array([0.03201326], dtype=float32),\n",
      "                                                'MarchApril|urmsd_ci_upper': array([0.05224345], dtype=float32),\n",
      "                                                'gpi': array([0], dtype=int32),\n",
      "                                                'lat': array([33.8833]),\n",
      "                                                'lon': array([102.1333])}}\n",
      "Results were stored in /tmp/tmppeisd__e/ascat_ismn_adapted\n"
     ]
    }
   ],
   "source": [
    "import pandas as pd\n",
    "from pytesmo.validation_framework.temporal_matchers import make_combined_temporal_matcher\n",
    "process = Validation(\n",
    "    datasets, 'ISMN',\n",
    "    temporal_ref='ASCAT',\n",
    "    scaling='mean_std',\n",
    "    scaling_ref='ISMN',\n",
    "    metrics_calculators={(2, 2): adapted_intercomparison_metrics.calc_metrics},\n",
    "    temporal_matcher=make_combined_temporal_matcher(pd.Timedelta(6, \"H\")),\n",
    "    period=period)\n",
    "\n",
    "save_path = output_folder / 'ascat_ismn_adapted'\n",
    "\n",
    "if os.path.exists(save_path):\n",
    "    shutil.rmtree(save_path)\n",
    "\n",
    "for job in jobs:\n",
    "    results = process.calc(*job)\n",
    "    pprint(results)\n",
    "    netcdf_results_manager(results, save_path)\n",
    "\n",
    "print(f\"Results were stored in {save_path}\")"
   ]
  },
  {
   "cell_type": "markdown",
   "metadata": {},
   "source": [
    "## Parallel processing\n",
    "\n",
    "The same code can be executed in parallel by defining the following `start_processing` function."
   ]
  },
  {
   "cell_type": "code",
   "execution_count": 15,
   "metadata": {},
   "outputs": [],
   "source": [
    "def start_processing(job):\n",
    "    try:\n",
    "        return process.calc(*job)\n",
    "    except RuntimeError:\n",
    "        return process.calc(*job)"
   ]
  },
  {
   "cell_type": "markdown",
   "metadata": {},
   "source": [
    "`pytesmo.validation_framework.start_validation` can then be used to run your validation in parallel.\n",
    "Your setup code can look like this Ipython notebook without the loop over the jobs. Otherwise the validation would\n",
    "be done twice. Save it into a `.py` file e.g. `my_validation.py`.\n",
    "\n",
    "After [starting the ipyparallel cluster](http://ipyparallel.readthedocs.org/en/latest/process.html) you can then\n",
    "execute the following code:\n",
    "\n",
    "```python\n",
    "from pytesmo.validation_framework import start_validation\n",
    "\n",
    "# Note that before starting the validation you must start a controller\n",
    "# and engines, for example by using: ipcluster start -n 4\n",
    "# This command will launch a controller and 4 engines on the local machine.\n",
    "# Also, do not forget to change the setup_code path to your current setup.\n",
    "\n",
    "setup_code = \"my_validation.py\"\n",
    "start_validation(setup_code)\n",
    "```"
   ]
  },
  {
   "cell_type": "markdown",
   "metadata": {
    "pycharm": {
     "name": "#%% md\n"
    }
   },
   "source": [
    "## Time Series Adapters\n",
    "\n",
    "Data readers extract time series from the candidate and reference data sets used in a validation run. However, often it is desired to change the data in some way after reading and before using them in the validation framework. Potential preprocessing steps include masking/filtering, conversion to anomalies and the combining multiple available variables in a dataset.\n",
    "\n",
    "## Masking / filtering\n",
    "\n",
    "Filters are used to select certain observations in a time series after reading to include/exclude from the validation run. Satellite and in situ observations often come with quality flags for their measurements. Filters are for example used to choose - based on these flags - which observations should be used and which ones should be discarded before computing validation metrics.\n",
    "\n",
    "There are 2 ways of masking input datasets.\n",
    "\n",
    "1) Directly upon loading a time series from a dataset, by removing any unwanted observations\n",
    "    For this the `SelfMaskingAdapter` and `AdvancedMaskingAdapter` are used.\n",
    "2) Indirectly after reading all datasets by using one or multiple independent masking datasets.\n",
    "    For this the `MaskingAdapter` is used. The masking datasets have the same format as the dataset dictionary and can be specified in the Validation class with the `masking_datasets` keyword.\n",
    "\n",
    "### Masking adapter\n",
    "\n",
    "To easily transform an existing dataset into a masking dataset `pytesmo` offers an adapter class that calls the\n",
    "reading method of an existing dataset and creates a masking dataset based on an operator, a given threshold, and (optionally) a column name."
   ]
  },
  {
   "cell_type": "code",
   "execution_count": 16,
   "metadata": {},
   "outputs": [
    {
     "name": "stdout",
     "output_type": "stream",
     "text": [
      "                     soil_moisture\n",
      "date_time                         \n",
      "2008-07-01 00:00:00          False\n",
      "2008-07-01 01:00:00          False\n",
      "2008-07-01 02:00:00          False\n",
      "2008-07-01 03:00:00          False\n",
      "2008-07-01 04:00:00          False\n",
      "...                            ...\n",
      "2010-07-31 19:00:00          False\n",
      "2010-07-31 20:00:00          False\n",
      "2010-07-31 21:00:00          False\n",
      "2010-07-31 22:00:00          False\n",
      "2010-07-31 23:00:00          False\n",
      "\n",
      "[15927 rows x 1 columns]\n"
     ]
    }
   ],
   "source": [
    "from pytesmo.validation_framework.adapters import MaskingAdapter\n",
    "\n",
    "ds_mask = MaskingAdapter(ismn_reader,  '<', 0.2, 'soil_moisture')\n",
    "pprint(ds_mask.read(ids[0]))"
   ]
  },
  {
   "cell_type": "markdown",
   "metadata": {},
   "source": [
    "### Self-masking adapter\n",
    "`pytesmo` also has a class that masks a dataset \"on-the-fly\", based on one of the columns it contains and an operator and a threshold. In contrast to the masking adapter mentioned above, the output of the self-masking adapter is the masked data, not the mask. The self-masking adapter wraps a data reader, which must have a `read_ts` or `read` method. Alternatively, to use a method with a name other than `read`/`read_ts`, use the `read_name` keyword which is available for each Adapter - it is still required that the method returns a pandas DataFrame! Calling the reading method will return the masked data - more precisely a DataFrame with only rows where the masking condition is true."
   ]
  },
  {
   "cell_type": "code",
   "execution_count": 17,
   "metadata": {},
   "outputs": [
    {
     "name": "stdout",
     "output_type": "stream",
     "text": [
      "                     soil_moisture soil_moisture_flag soil_moisture_orig_flag\n",
      "date_time                                                                    \n",
      "2008-11-29 09:00:00           0.19            D01,D03                       M\n",
      "2008-11-29 10:00:00           0.19            D01,D03                       M\n",
      "2008-11-29 11:00:00           0.19            D01,D03                       M\n",
      "2008-11-30 03:00:00           0.19            D01,D03                       M\n",
      "2008-11-30 04:00:00           0.19            D01,D03                       M\n",
      "...                            ...                ...                     ...\n",
      "2010-03-16 08:00:00           0.18                D01                       M\n",
      "2010-03-16 09:00:00           0.18                D01                       M\n",
      "2010-03-16 10:00:00           0.18                D01                       M\n",
      "2010-03-16 11:00:00           0.18                D01                       M\n",
      "2010-03-16 12:00:00           0.19                D01                       M\n",
      "\n",
      "[2956 rows x 3 columns]\n"
     ]
    }
   ],
   "source": [
    "from pytesmo.validation_framework.adapters import SelfMaskingAdapter\n",
    "\n",
    "ds_mask = SelfMaskingAdapter(ismn_reader, '<', 0.2, 'soil_moisture', read_name='read')\n",
    "pprint(ds_mask.read(ids[0]))"
   ]
  },
  {
   "cell_type": "markdown",
   "metadata": {
    "pycharm": {
     "name": "#%% md\n"
    }
   },
   "source": [
    "While the `SelfMaskingAdapter` works only one one filtering rule, there is also the `AdvancedMaskingAdapter`. This one can take a list of conditions based on which a time series is masked."
   ]
  },
  {
   "cell_type": "code",
   "execution_count": 18,
   "metadata": {
    "pycharm": {
     "name": "#%%\n"
    }
   },
   "outputs": [
    {
     "name": "stdout",
     "output_type": "stream",
     "text": [
      "                              sm  snow_prob  proc_flag orbit_dir\n",
      "2007-02-12 14:47:48.999982  16.0          0          0      b'A'\n",
      "2007-02-20 13:42:25.999977  35.0          0          0      b'A'\n",
      "2007-03-01 13:56:14.999987  37.0          0          0      b'A'\n",
      "2007-03-06 13:52:51.000007  35.0          0          0      b'A'\n",
      "2007-03-08 14:51:29.999990  36.0          0          0      b'A'\n",
      "...                          ...        ...        ...       ...\n",
      "2014-06-20 13:54:58.000002  80.0          0          0      b'A'\n",
      "2014-06-22 14:53:39.000015  77.0          0          0      b'A'\n",
      "2014-06-25 13:51:37.000006  83.0          0          0      b'A'\n",
      "2014-06-27 14:50:18.000019  81.0          0          0      b'A'\n",
      "2014-06-30 13:48:17.999999  83.0          0          0      b'A'\n",
      "\n",
      "[656 rows x 4 columns]\n"
     ]
    }
   ],
   "source": [
    "from pytesmo.validation_framework.adapters import AdvancedMaskingAdapter\n",
    "\n",
    "\n",
    "ds_mask = AdvancedMaskingAdapter(ascat_reader,\n",
    "                                 filter_list=[('snow_prob', np.less_equal, 10),\n",
    "                                              ('sm', '>', 0),\n",
    "                                              ('sm', '<', 100),\n",
    "                                              ('proc_flag', '==', 0),\n",
    "                                              ('orbit_dir', '==', b'A')],\n",
    "                                 read_name='read')\n",
    "pprint(ds_mask.read(1814367)[['sm', 'snow_prob', 'proc_flag', 'orbit_dir']])"
   ]
  },
  {
   "cell_type": "markdown",
   "metadata": {
    "pycharm": {
     "name": "#%% md\n"
    }
   },
   "source": [
    "## AnomalyAdapter and AnomalyClimAdapter\n",
    "\n",
    "These 2 adapters are used to transform absolute values into anomalies on-the-fly after reading. You can select one or multiple columns for which the anomalies are computed. Additional kwargs (like `timespan`) are passed to the underlying anomaly and climatology function. For more details there is a separate tutorial available."
   ]
  },
  {
   "cell_type": "code",
   "execution_count": 19,
   "metadata": {
    "pycharm": {
     "name": "#%%\n"
    }
   },
   "outputs": [
    {
     "name": "stdout",
     "output_type": "stream",
     "text": [
      "                     soil_moisture soil_moisture_flag soil_moisture_orig_flag\n",
      "date_time                                                                    \n",
      "2008-07-01 00:00:00       0.140861                C03                       M\n",
      "2008-07-01 01:00:00       0.140861                C03                       M\n",
      "2008-07-01 02:00:00       0.140861                C03                       M\n",
      "2008-07-01 03:00:00       0.140861                C03                       M\n",
      "2008-07-01 04:00:00       0.140861                C03                       M\n",
      "...                            ...                ...                     ...\n",
      "2010-07-31 19:00:00      -0.151816                  U                       M\n",
      "2010-07-31 20:00:00      -0.151816                  U                       M\n",
      "2010-07-31 21:00:00      -0.151816                  U                       M\n",
      "2010-07-31 22:00:00      -0.151816                  U                       M\n",
      "2010-07-31 23:00:00      -0.151816                  U                       M\n",
      "\n",
      "[15927 rows x 3 columns]\n"
     ]
    },
    {
     "data": {
      "text/plain": "<Axes: title={'center': 'Anomaly (wrt. 1991-2020 avg.)'}, xlabel='date_time', ylabel='SM m3m-3'>"
     },
     "execution_count": 19,
     "metadata": {},
     "output_type": "execute_result"
    },
    {
     "data": {
      "text/plain": "<Figure size 700x200 with 1 Axes>",
      "image/png": "[encoded data removed]"
     },
     "metadata": {},
     "output_type": "display_data"
    }
   ],
   "source": [
    "from pytesmo.validation_framework.adapters import AnomalyClimAdapter\n",
    "ds_mask = AnomalyClimAdapter(ismn_reader, columns=['soil_moisture'], \n",
    "                             timespan=(datetime(1991,1,1), datetime(2020,12,31)))\n",
    "anom = ds_mask.read(ids[0])\n",
    "pprint(anom)\n",
    "anom.plot(title='Anomaly (wrt. 1991-2020 avg.)', ylabel='SM m3m-3', figsize=(7,2))"
   ]
  },
  {
   "cell_type": "markdown",
   "metadata": {
    "pycharm": {
     "name": "#%% md\n"
    }
   },
   "source": [
    "## ColumnCombineAdapter\n",
    "\n",
    "This adapter is used to combine multiple columns of a dataset after reading the time series. It takes any function that can be applied accross multiple columns and will add a new column of the chosen name to the data frame.\n",
    "E.g. in the following example we combine the `proc_flag` and `snow_prob` and `frozen_prob` column into a new column `good` that is 'True' when all the chosen columns are 0 and otherwise 'False'. Then we apply a `SelfMaskingAdapter` that uses the newly added column to filter the dataset. This is just for demonstration, we could also just use the `AdvancedMaskingAdapter` for this example. A more common use case for the `ColumnCombineAdapter` would be to compute the average when multiple soil moisture fields are available in a dataset.\n",
    "\n",
    "This example also shows that you can stack multiple adapters together. If they depend on each other, it is important to notice that the innermost adapter will be called first!"
   ]
  },
  {
   "cell_type": "code",
   "execution_count": 20,
   "metadata": {
    "pycharm": {
     "name": "#%%\n"
    }
   },
   "outputs": [
    {
     "name": "stdout",
     "output_type": "stream",
     "text": [
      "                              sm  proc_flag  snow_prob  frozen_prob  good\n",
      "2007-06-03 03:33:38.999992  84.0          0          0            0  True\n",
      "2007-06-03 14:51:50.999997  82.0          0          0            0  True\n",
      "2007-06-06 02:31:33.000005  76.0          0          0            0  True\n",
      "2007-06-06 13:49:46.999999  75.0          0          0            0  True\n",
      "2007-06-08 03:30:13.000023  83.0          0          0            0  True\n",
      "...                          ...        ...        ...          ...   ...\n",
      "2014-06-25 13:51:37.000006  83.0          0          0            0  True\n",
      "2014-06-27 03:32:04.999979  79.0          0          0            0  True\n",
      "2014-06-27 14:50:18.000019  81.0          0          0            0  True\n",
      "2014-06-30 02:30:05.000000  77.0          0          0            0  True\n",
      "2014-06-30 13:48:17.999999  83.0          0          0            0  True\n",
      "\n",
      "[713 rows x 5 columns]\n"
     ]
    }
   ],
   "source": [
    "from pytesmo.validation_framework.adapters import ColumnCombineAdapter, SelfMaskingAdapter\n",
    "\n",
    "def select_good(x):\n",
    "    return (x['proc_flag'] == 0) and (x['snow_prob'] == 0) and (x['frozen_prob'] == 0)\n",
    "\n",
    "ds_mask = SelfMaskingAdapter(ColumnCombineAdapter(ascat_reader, func=select_good, new_name='good'), \n",
    "                             '==', True, 'good')\n",
    "pprint(ds_mask.read(1814367)[['sm', 'proc_flag', 'snow_prob', 'frozen_prob', 'good']])"
   ]
  },
  {
   "cell_type": "code",
   "execution_count": null,
   "metadata": {},
   "outputs": [],
   "source": []
  }
 ],
 "metadata": {
  "kernelspec": {
   "display_name": "Python [conda env:pytesmo] *",
   "language": "python",
   "name": "conda-env-pytesmo-py"
  },
  "language_info": {
   "codemirror_mode": {
    "name": "ipython",
    "version": 3
   },
   "file_extension": ".py",
   "mimetype": "text/x-python",
   "name": "python",
   "nbconvert_exporter": "python",
   "pygments_lexer": "ipython3",
   "version": "3.9.16"
  }
 },
 "nbformat": 4,
 "nbformat_minor": 4
}
