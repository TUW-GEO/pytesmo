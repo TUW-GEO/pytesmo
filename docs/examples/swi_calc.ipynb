{
 "cells": [
  {
   "cell_type": "markdown",
   "metadata": {},
   "source": [
    "# Example: Calculate SWI from ASCAT"
   ]
  },
  {
   "cell_type": "markdown",
   "metadata": {},
   "source": [
    "Import all necessary dependencies:"
   ]
  },
  {
   "cell_type": "code",
   "execution_count": null,
   "metadata": {},
   "outputs": [],
   "source": [
    "%matplotlib inline\n",
    "\n",
    "import warnings\n",
    "from pathlib import Path\n",
    "from ascat.read_native.cdr import AscatGriddedNcTs\n",
    "from pytesmo.time_series.filters import exp_filter\n",
    "\n",
    "import os\n",
    "import matplotlib.pyplot as plt\n"
   ]
  },
  {
   "cell_type": "markdown",
   "metadata": {},
   "source": [
    "Set up the ascat reader:"
   ]
  },
  {
   "cell_type": "code",
   "execution_count": null,
   "metadata": {
    "scrolled": true
   },
   "outputs": [],
   "source": [
    "testdata_path = Path(\".\").resolve().parent.parent / \"tests\" / \"test-data\"\n",
    "ascat_data_folder = testdata_path / \"sat\" / \"ascat\" / \"netcdf\" / \"55R22\"\n",
    "ascat_grid_fname = testdata_path / \"sat\" / \"ascat\" / \"netcdf\" / \"grid\" / \"TUW_WARP5_grid_info_2_1.nc\"\n",
    "static_layer_path = testdata_path / \"sat\" / \"h_saf\" / \"static_layer\"\n",
    "\n",
    "\n",
    "#init the AscatSsmCdr reader with the paths\n",
    "with warnings.catch_warnings():\n",
    "    warnings.filterwarnings('ignore') # some warnings are expected and ignored\n",
    "    \n",
    "    ascat_reader = AscatGriddedNcTs(\n",
    "        ascat_data_folder,\n",
    "        \"TUW_METOP_ASCAT_WARP55R22_{:04d}\",\n",
    "        grid_filename=ascat_grid_fname,\n",
    "        static_layer_path=static_layer_path\n",
    "    )"
   ]
  },
  {
   "cell_type": "markdown",
   "metadata": {},
   "source": [
    "Read a point in Northern Italy:"
   ]
  },
  {
   "cell_type": "code",
   "execution_count": null,
   "metadata": {},
   "outputs": [],
   "source": [
    "# point at (11,45)\n",
    "ascat_ts = ascat_reader.read(2302069, mask_ssf=True, mask_frozen_prob=80, mask_snow_prob=20)\n",
    "ascat_ts.plot(figsize=(15, 5));"
   ]
  },
  {
   "cell_type": "markdown",
   "metadata": {
    "pycharm": {
     "name": "#%% md\n"
    }
   },
   "source": [
    "Apply the exponential filter to calculate SWI from SM:"
   ]
  },
  {
   "cell_type": "code",
   "execution_count": null,
   "metadata": {
    "pycharm": {
     "name": "#%%\n"
    }
   },
   "outputs": [],
   "source": [
    "# Drop NA measurements\n",
    "ascat_sm_ts = ascat_ts[['sm', 'sm_noise']].dropna()\n",
    "\n",
    "# Get julian dates of time series\n",
    "jd = ascat_sm_ts.index.to_julian_date().values\n",
    "\n",
    "# Calculate SWI T=10\n",
    "ascat_sm_ts['swi_t10'] = exp_filter(ascat_sm_ts['sm'].values, jd, ctime=10)\n",
    "ascat_sm_ts['swi_t50'] = exp_filter(ascat_sm_ts['sm'].values, jd, ctime=50)\n",
    "\n",
    "fig, ax = plt.subplots(1, 1, figsize=(15, 5))\n",
    "ascat_sm_ts['sm'].plot(ax=ax, alpha=0.4, marker='o',color='#00bfff', label='SSM')\n",
    "ascat_sm_ts['swi_t10'].plot(ax=ax, lw=2,label='SWI T=10')\n",
    "ascat_sm_ts['swi_t50'].plot(ax=ax, lw=2,label='SWI T=50')\n",
    "plt.legend();"
   ]
  }
 ],
 "metadata": {
  "kernelspec": {
   "display_name": "Python [conda env:pytesmo]",
   "language": "python",
   "name": "conda-env-pytesmo-py"
  },
  "language_info": {
   "codemirror_mode": {
    "name": "ipython",
    "version": 3
   },
   "file_extension": ".py",
   "mimetype": "text/x-python",
   "name": "python",
   "nbconvert_exporter": "python",
   "pygments_lexer": "ipython3",
   "version": "3.8.8"
  },
  "pycharm": {
   "stem_cell": {
    "cell_type": "raw",
    "metadata": {
     "collapsed": false
    },
    "source": []
   }
  }
 },
 "nbformat": 4,
 "nbformat_minor": 4
}
