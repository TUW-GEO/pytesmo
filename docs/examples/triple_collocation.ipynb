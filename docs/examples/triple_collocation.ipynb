{
 "cells": [
  {
   "cell_type": "markdown",
   "metadata": {},
   "source": [
    "# Triple collocation\n",
    "\n",
    "Triple collocation is a method to estimate the unknown error of three timeseries with the same underlying geophysical variable [Stoffelen1998]. It is based on the following error model:\n",
    "\n",
    "$$x = \\alpha_x + \\beta_x\\Theta + \\varepsilon_x$$\n",
    "$$y = \\alpha_y + \\beta_y\\Theta + \\varepsilon_y$$\n",
    "$$z = \\alpha_z + \\beta_z\\Theta + \\varepsilon_z$$\n",
    "\n",
    "in which $\\Theta$ is the true value of the geophysical variable e.g. soil moisture. $\\alpha$ and $\\beta$ are additive and multiplicative biases of the data and $\\varepsilon$ is the zero mean random noise which we want to estimate.\n",
    "\n",
    "Estimation of the triple collocation error $\\varepsilon$ is commonly done using one of two approaches:\n",
    "\n",
    "1. Scaling/calibrating the datasets to a reference dataset (removing $\\alpha$ and $\\beta$) and calculating the triple collocation error based on these datasets.\n",
    "2. Estimation of the triple collocation error based on the covariances between the datasets. This also yields (linear) scaling parameters ($\\beta$) which can be used if scaling of the datasets is desired.\n",
    "\n",
    "The scaling approaches used in approach 1 are not ideal for e.g. data assimilation. Under the assumption that assimilated observations should have orthogonal errors, triple collocation based scaling parameters are ideal [Yilmaz2013].\n",
    "\n",
    "Approach 2 is recommended for scaling if three datasets are available.\n",
    "\n",
    "In this example we will show how `pytesmo` can be used to estimate random noise with three datasets using triple collocation.\n",
    "\n",
    "We will demonstrate this with an example using synthetic data that follows the error model from above."
   ]
  },
  {
   "cell_type": "code",
   "execution_count": null,
   "metadata": {},
   "outputs": [],
   "source": [
    "import numpy as np\n",
    "import matplotlib.pyplot as plt\n",
    "%matplotlib inline\n",
    "\n",
    "# number of observations\n",
    "n = 1000000\n",
    "# x coordinates for initializing the sine curve\n",
    "coord = np.linspace(0, 2*np.pi, n)\n",
    "signal = np.sin(coord)\n",
    "\n",
    "# error i.e. epsilon of the three synthetic time series\n",
    "sig_err_x = 0.02\n",
    "sig_err_y = 0.07\n",
    "sig_err_z = 0.04\n",
    "err_x = np.random.normal(0, sig_err_x, n)\n",
    "err_y = np.random.normal(0, sig_err_y, n)\n",
    "err_z = np.random.normal(0, sig_err_z, n)\n",
    "\n",
    "# additive and multiplicative biases\n",
    "# they are assumed to be zero for dataset x\n",
    "alpha_y = 0.2\n",
    "alpha_z = 0.5\n",
    "\n",
    "beta_y = 0.9\n",
    "beta_z = 1.6\n",
    "\n",
    "x = signal + err_x\n",
    "# here we assume errors that are already scaled\n",
    "y = alpha_y + beta_y * (signal + err_y) \n",
    "z = alpha_z + beta_z * (signal + err_z)\n",
    "\n",
    "plt.plot(coord, x, alpha=0.3, label='x')\n",
    "plt.plot(coord, y, alpha=0.3, label='y')\n",
    "plt.plot(coord, z, alpha=0.3, label='z')\n",
    "plt.plot(coord, signal, 'k', label=r'$\\Theta$')\n",
    "plt.legend();"
   ]
  },
  {
   "cell_type": "markdown",
   "metadata": {},
   "source": [
    "In approach 2 we can estimate the triple collocation errors, the scaling parameter $\\beta$ and the signal to noise ratio directly from the covariances of the dataset. For a general overview and how Apporach 1 and 2 are related please see [Gruber2015].\n",
    "\n",
    "Estimation of the error variances from the covariances of the datasets (e.g. $\\sigma_{XY}$ for the covariance between $x$ and $y$) is done using the following formula:\n",
    "\n",
    "$\\sigma_{\\varepsilon_x}^2 = \\sigma_{X}^2 - \\frac{\\sigma_{XY}\\sigma_{XZ}}{\\sigma_{YZ}}\\\\\n",
    "\\sigma_{\\varepsilon_y}^2 = \\sigma_{Y}^2 - \\frac{\\sigma_{YX}\\sigma_{YZ}}{\\sigma_{XZ}}\\\\\n",
    "\\sigma_{\\varepsilon_z}^2 = \\sigma_{Z}^2 - \\frac{\\sigma_{ZY}\\sigma_{ZX}}{\\sigma_{YX}}$\n",
    "\n",
    "$\\beta$ can also be estimated from the covariances:\n",
    "\n",
    "$\\beta_x = 1 \\quad \\quad \\quad \\beta_y = \\frac{\\sigma_{XZ}}{\\sigma_{YZ}} \\quad \\quad \\quad \\beta_z=\\frac{\\sigma_{XY}}{\\sigma_{ZY}}$\n",
    "\n",
    "The signal to noise ratio (SNR) is also calculated from the variances and covariances:\n",
    "\n",
    "$\\text{SNR}_X[dB] = -10\\log\\left(\\frac{\\sigma_{X}^2\\sigma_{YZ}}{\\sigma_{XY}\\sigma_{XZ}}-1\\right)\\\\\n",
    "\\text{SNR}_Y[dB] = -10\\log\\left(\\frac{\\sigma_{Y}^2\\sigma_{XZ}}{\\sigma_{YX}\\sigma_{YZ}}-1\\right)\\\\\n",
    "\\text{SNR}_Z[dB] = -10\\log\\left(\\frac{\\sigma_{Z}^2\\sigma_{XY}}{\\sigma_{ZX}\\sigma_{ZY}}-1\\right)$\n",
    "\n",
    "It is given in dB to make it symmetric around zero. If the value is zero it means that the signal variance and the noise variance are equal. +3dB means that the signal variance is twice as high as the noise variance.\n",
    "\n",
    "This apporach is implemented in `pytesmo.metrics.tcol_metrics`."
   ]
  },
  {
   "cell_type": "code",
   "execution_count": null,
   "metadata": {},
   "outputs": [],
   "source": [
    "from pytesmo.metrics import tcol_metrics\n",
    "\n",
    "snr, err, beta = tcol_metrics(x, y, z)\n",
    "print(f\"Error of x: {err[0]:.4f}, true: {sig_err_x:.4f}\")       \n",
    "print(f\"Error of y: {err[1]:.4f}, true: {sig_err_y:.4f}\")\n",
    "print(f\"Error of z: {err[2]:.4f}, true: {sig_err_z:.4f}\")"
   ]
  },
  {
   "cell_type": "markdown",
   "metadata": {},
   "source": [
    "The estimation works very well in this example.\n",
    "\n",
    "We can now also check if $\\beta_y$ and $\\beta_z$ were correctly estimated.\n",
    "\n",
    "The function gives us the inverse values of $beta$. We can use these values directly to scale our datasets."
   ]
  },
  {
   "cell_type": "code",
   "execution_count": null,
   "metadata": {},
   "outputs": [],
   "source": [
    "print(\"scaling parameter for y estimated: {:.2f}, true:{:.2f}\".format(1/beta[1], beta_y))\n",
    "print(\"scaling parameter for z estimated: {:.2f}, true:{:.2f}\".format(1/beta[2], beta_z))"
   ]
  },
  {
   "cell_type": "code",
   "execution_count": null,
   "metadata": {},
   "outputs": [],
   "source": [
    "y_beta_scaled = y * beta[1]\n",
    "z_beta_scaled = z * beta[2]\n",
    "plt.plot(coord, x, alpha=0.3, label='x')\n",
    "plt.plot(coord, y_beta_scaled, alpha=0.3, label='y beta scaled')\n",
    "plt.plot(coord, z_beta_scaled, alpha=0.3, label='z beta scaled')\n",
    "plt.plot(coord, signal, 'k', label=r'$\\Theta$')\n",
    "plt.legend();"
   ]
  },
  {
   "cell_type": "markdown",
   "metadata": {},
   "source": [
    "The datasets still have different mean values i.e. different $\\alpha$ values. These can be removed by subtracting the mean of the dataset."
   ]
  },
  {
   "cell_type": "code",
   "execution_count": null,
   "metadata": {},
   "outputs": [],
   "source": [
    "y_ab_scaled = y_beta_scaled - np.mean(y_beta_scaled)\n",
    "z_ab_scaled = z_beta_scaled - np.mean(z_beta_scaled)\n",
    "plt.plot(coord, x, alpha=0.3, label='x')\n",
    "plt.plot(coord, y_ab_scaled, alpha=0.3, label='y ab scaled')\n",
    "plt.plot(coord, z_ab_scaled, alpha=0.3, label='z ab scaled')\n",
    "plt.plot(coord, signal, 'k', label=r'$\\Theta$')\n",
    "plt.legend();"
   ]
  },
  {
   "cell_type": "markdown",
   "metadata": {},
   "source": [
    "This yields scaled/calibrated datasets using triple collocation based scaling which is ideal for e.g. data assimilation."
   ]
  },
  {
   "cell_type": "markdown",
   "metadata": {},
   "source": [
    "The SNR is nothing else than the fraction of the signal variance to the noise variance in dB\n",
    "\n",
    "Let's first print the snr we got from `metrics.tcol_metrics`"
   ]
  },
  {
   "cell_type": "code",
   "execution_count": null,
   "metadata": {},
   "outputs": [],
   "source": [
    "print(snr)"
   ]
  },
  {
   "cell_type": "markdown",
   "metadata": {},
   "source": [
    "Now let's calculate the SNR starting from the variance of the sine signal and the $\\sigma$ values we used for our additive errors. "
   ]
  },
  {
   "cell_type": "code",
   "execution_count": null,
   "metadata": {},
   "outputs": [],
   "source": [
    "[10*np.log10(np.var(signal)/(sig_err_x)**2),\n",
    "10*np.log10(np.var(signal)/(sig_err_y)**2),\n",
    "10*np.log10(np.var(signal)/(sig_err_z)**2)]"
   ]
  },
  {
   "cell_type": "markdown",
   "metadata": {},
   "source": [
    "We can see that the estimated SNR and the \"real\" SNR of our artifical datasets are very similar."
   ]
  },
  {
   "cell_type": "markdown",
   "metadata": {},
   "source": [
    "## References\n",
    "\n",
    "[Stoffelen1998]: - Stoffelen, A. (1998). Toward the true near-surface wind speed: error modeling\n",
    "  and calibration using triple collocation. Journal of Geophysical Research:\n",
    "  Oceans (1978--2012), 103(C4), 7755–7766.\n",
    "\n",
    "[Yilmaz2013]: - Yilmaz, M. T., & Crow, W. T. (2013). The optimality of potential rescaling\n",
    "  approaches in land data assimilation. Journal of Hydrometeorology, 14(2),\n",
    "  650–660.\n",
    "  \n",
    "[Gruber2015]:- Gruber, A., Su, C., Zwieback, S., Crow, W., Dorigo, W., Wagner, W. (2015). Recent advances in (soil moisture) triple collocation analysis. International Journal of Applied Earth Observation and Geoinformation, in review"
   ]
  }
 ],
 "metadata": {
  "kernelspec": {
   "display_name": "Python [conda env:pytesmo]",
   "language": "python",
   "name": "conda-env-pytesmo-py"
  },
  "language_info": {
   "codemirror_mode": {
    "name": "ipython",
    "version": 3
   },
   "file_extension": ".py",
   "mimetype": "text/x-python",
   "name": "python",
   "nbconvert_exporter": "python",
   "pygments_lexer": "ipython3",
   "version": "3.8.8"
  }
 },
 "nbformat": 4,
 "nbformat_minor": 4
}
