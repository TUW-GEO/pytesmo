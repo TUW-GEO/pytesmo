{
 "cells": [
  {
   "cell_type": "markdown",
   "metadata": {},
   "source": [
    "# Calculating anomalies and climatologies of (satellite) timeseries with pytesmo\n",
    "\n",
    "\n",
    "The following example shows how you can use pytesmo to calculate anomalies or the climatology of a times eries. Here we use the test data that is provided within the Github repository, but it works the same with all pandas DataFrames or Series."
   ]
  },
  {
   "cell_type": "code",
   "execution_count": null,
   "metadata": {},
   "outputs": [],
   "source": [
    "%matplotlib inline\n",
    "\n",
    "from ascat.read_native.cdr import AscatGriddedNcTs\n",
    "from pytesmo.time_series import anomaly\n",
    "from pathlib import Path\n",
    "import warnings\n",
    "import matplotlib.pyplot as plt"
   ]
  },
  {
   "cell_type": "markdown",
   "metadata": {},
   "source": [
    "The first step is to read in the ASCAT data at a single grid point and plot the resulting soil moisture time series:"
   ]
  },
  {
   "cell_type": "code",
   "execution_count": null,
   "metadata": {},
   "outputs": [],
   "source": [
    "testdata_path = Path(\".\").resolve().parent.parent / \"tests\" / \"test-data\"\n",
    "ascat_data_folder = testdata_path / \"sat\" / \"ascat\" / \"netcdf\" / \"55R22\"\n",
    "ascat_grid_fname = testdata_path / \"sat\" / \"ascat\" / \"netcdf\" / \"grid\" / \"TUW_WARP5_grid_info_2_1.nc\"\n",
    "static_layer_path = testdata_path / \"sat\" / \"h_saf\" / \"static_layer\"\n",
    "\n",
    "\n",
    "#init the AscatSsmCdr reader with the paths\n",
    "with warnings.catch_warnings():\n",
    "    warnings.filterwarnings('ignore') # some warnings are expected and ignored\n",
    "    \n",
    "    ascat_reader = AscatGriddedNcTs(\n",
    "        ascat_data_folder,\n",
    "        \"TUW_METOP_ASCAT_WARP55R22_{:04d}\",\n",
    "        grid_filename=ascat_grid_fname,\n",
    "        static_layer_path=static_layer_path\n",
    "    )\n",
    "    \n",
    "ascat_ts = ascat_reader.read(11.82935429,45.4731369)\n",
    "ascat_ts[\"sm\"].plot(figsize=(10, 4))\n",
    "plt.ylabel(\"Soil moisture (degree of saturation in %)\");"
   ]
  },
  {
   "cell_type": "markdown",
   "metadata": {},
   "source": [
    "This timeseries shows a seasonal pattern of high soil moisture in winter and low soil moisture in summer, so we might be interested in the climatology (long-term mean seasonal pattern) or in anomalies from the climatology or from the current seasonality (calculated via a moving window of 35 days).\n",
    "\n",
    "This can be done with the `calc_climatology` and `calc_anomaly` functions in `pytesmo.time_series.anomaly`.\n",
    "\n",
    "Let's first have a look at the climatology:"
   ]
  },
  {
   "cell_type": "code",
   "execution_count": null,
   "metadata": {},
   "outputs": [],
   "source": [
    "climatology = anomaly.calc_climatology(ascat_ts[\"sm\"])\n",
    "climatology"
   ]
  },
  {
   "cell_type": "code",
   "execution_count": null,
   "metadata": {},
   "outputs": [],
   "source": [
    "climatology.plot()\n",
    "plt.ylabel(\"Soil moisture (degree of saturation in %)\");"
   ]
  },
  {
   "cell_type": "markdown",
   "metadata": {},
   "source": [
    "The returned climatology is a pandas Series with the day of year as index (ranging from 1 to 366). Here we can see more clearly the pattern we spotted above in the full timeseries.\n",
    "\n",
    "We can use this climatology to calculate the anomalies from it, e.g. soil moisture signal - climatology:"
   ]
  },
  {
   "cell_type": "markdown",
   "metadata": {},
   "source": [
    "Calculate anomaly based on moving +- 17 day window:"
   ]
  },
  {
   "cell_type": "code",
   "execution_count": null,
   "metadata": {},
   "outputs": [],
   "source": [
    "anomaly_clim = anomaly.calc_anomaly(ascat_ts[\"sm\"], climatology=climatology)\n",
    "anomaly_clim.plot(figsize=(10, 4))\n",
    "plt.ylabel(\"Soil moisture (degree of saturation in %)\");"
   ]
  },
  {
   "cell_type": "markdown",
   "metadata": {},
   "source": [
    "We can also base our anomaly calculation on a running mean. This way we can get the short-term anomalies separated from a smoothed signal showing the seasonal contributions. Here we use a window of 35 days, e.g +- 17 days in each direction:"
   ]
  },
  {
   "cell_type": "code",
   "execution_count": null,
   "metadata": {},
   "outputs": [],
   "source": [
    "anomaly_seasonal = anomaly.calc_anomaly(ascat_ts[\"sm\"], window_size=35)\n",
    "seasonal = ascat_ts[\"sm\"] - anomaly_seasonal\n",
    "\n",
    "fig, axes = plt.subplots(nrows=2, figsize=(10, 11))\n",
    "seasonal.plot(ax=axes[0])\n",
    "axes[0].set_ylabel(\"Soil moisture (degree of saturation in %)\")\n",
    "axes[0].set_title(\"35-day moving average\")\n",
    "anomaly_seasonal.plot(ax=axes[1])\n",
    "axes[1].set_ylabel(\"Soil moisture anomaly (degree of saturation in %)\")\n",
    "axes[1].set_title(\"Anomalies from 35-day moving average\");"
   ]
  }
 ],
 "metadata": {
  "kernelspec": {
   "display_name": "Python [conda env:pytesmo]",
   "language": "python",
   "name": "conda-env-pytesmo-py"
  },
  "language_info": {
   "codemirror_mode": {
    "name": "ipython",
    "version": 3
   },
   "file_extension": ".py",
   "mimetype": "text/x-python",
   "name": "python",
   "nbconvert_exporter": "python",
   "pygments_lexer": "ipython3",
   "version": "3.8.8"
  },
  "pycharm": {
   "stem_cell": {
    "cell_type": "raw",
    "metadata": {
     "collapsed": false
    },
    "source": []
   }
  }
 },
 "nbformat": 4,
 "nbformat_minor": 4
}
