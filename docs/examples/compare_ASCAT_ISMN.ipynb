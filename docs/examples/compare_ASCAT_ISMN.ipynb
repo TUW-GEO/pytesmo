{
 "cells": [
  {
   "cell_type": "markdown",
   "metadata": {},
   "source": [
    "Here we show an example validation of ASCAT SM against ISMN insitu observations."
   ]
  },
  {
   "cell_type": "markdown",
   "metadata": {},
   "source": [
    "Import all necessary dependencies:"
   ]
  },
  {
   "cell_type": "code",
   "execution_count": 13,
   "metadata": {},
   "outputs": [],
   "source": [
    "import ismn.interface as ismn # install the ISMN package first https://github.com/TUW-GEO/ismn\n",
    "import warnings\n",
    "with warnings.catch_warnings():\n",
    "    warnings.filterwarnings('ignore')\n",
    "    from ascat.read_native.cdr import AscatSsmCdr # install the ascat package first https://github.com/TUW-GEO/ascat\n",
    "\n",
    "import pytesmo.temporal_matching as temp_match\n",
    "import pytesmo.scaling as scaling\n",
    "import pytesmo.df_metrics as df_metrics\n",
    "import pytesmo.metrics as metrics\n",
    "\n",
    "import os\n",
    "import matplotlib.pyplot as plt\n",
    "\n",
    "from pytesmo import testdata_path"
   ]
  },
  {
   "cell_type": "markdown",
   "metadata": {},
   "source": [
    "Create the ascat reader:"
   ]
  },
  {
   "cell_type": "code",
   "execution_count": 14,
   "metadata": {},
   "outputs": [],
   "source": [
    "ascat_data_folder = os.path.join(testdata_path, 'sat', 'ascat', 'netcdf', '55R22')\n",
    "ascat_grid_folder = os.path.join(testdata_path, 'sat', 'ascat', 'netcdf', 'grid')\n",
    "static_layers_folder = os.path.join(testdata_path, 'sat', 'h_saf', 'static_layer')\n",
    "#init the AscatSsmCdr reader with the paths\n",
    "\n",
    "with warnings.catch_warnings():\n",
    "    warnings.filterwarnings('ignore')\n",
    "    ascat_reader = AscatSsmCdr(ascat_data_folder, ascat_grid_folder,\n",
    "                               grid_filename='TUW_WARP5_grid_info_2_1.nc',\n",
    "                               static_layer_path=static_layers_folder)"
   ]
  },
  {
   "cell_type": "markdown",
   "metadata": {},
   "source": [
    "Create the ismn reader:"
   ]
  },
  {
   "cell_type": "code",
   "execution_count": 15,
   "metadata": {
    "scrolled": true
   },
   "outputs": [],
   "source": [
    "#set path to ISMN data\n",
    "path_to_ismn_data = os.path.join(testdata_path, 'ismn', 'multinetwork', 'header_values')\n",
    "\n",
    "#Initialize reader\n",
    "ISMN_reader = ismn.ISMN_Interface(path_to_ismn_data)"
   ]
  },
  {
   "cell_type": "markdown",
   "metadata": {},
   "source": [
    "Here we create a temporary directory to write some results into. Also we select\n",
    "new names for the ascat and ismn soil moisture data columns."
   ]
  },
  {
   "cell_type": "code",
   "execution_count": 16,
   "metadata": {},
   "outputs": [
    {
     "name": "stdout",
     "output_type": "stream",
     "text": [
      "Plots are created in: C:\\Users\\wpreimes\\AppData\\Local\\Temp\\tmppmnoly8c\n"
     ]
    }
   ],
   "source": [
    "from tempfile import mkdtemp\n",
    "\n",
    "out_path = mkdtemp()\n",
    "print('Plots are created in:', out_path)\n",
    "\n",
    "label_ascat='sm'\n",
    "label_insitu='insitu_sm'"
   ]
  },
  {
   "cell_type": "markdown",
   "metadata": {},
   "source": [
    "Now we loop through the ISMN stations and at each statione we read the nearest ASCAT pixel.\n",
    "Temporal matching is then performed and the data is scaled (bias correction)."
   ]
  },
  {
   "cell_type": "code",
   "execution_count": 17,
   "metadata": {},
   "outputs": [
    {
     "name": "stderr",
     "output_type": "stream",
     "text": [
      "c:\\users\\wpreimes\\appdata\\local\\continuum\\miniconda2\\envs\\pytesmo\\lib\\site-packages\\ipykernel_launcher.py:37: UserWarning: Matplotlib is currently using module://ipykernel.pylab.backend_inline, which is a non-GUI backend, so cannot show the figure.\n",
      "c:\\users\\wpreimes\\appdata\\local\\continuum\\miniconda2\\envs\\pytesmo\\lib\\site-packages\\ipykernel_launcher.py:49: UserWarning: Matplotlib is currently using module://ipykernel.pylab.backend_inline, which is a non-GUI backend, so cannot show the figure.\n",
      "c:\\users\\wpreimes\\appdata\\local\\continuum\\miniconda2\\envs\\pytesmo\\lib\\site-packages\\ipykernel_launcher.py:56: UserWarning: Matplotlib is currently using module://ipykernel.pylab.backend_inline, which is a non-GUI backend, so cannot show the figure.\n"
     ]
    },
    {
     "name": "stdout",
     "output_type": "stream",
     "text": [
      "ISMN time series: MAQU CST_01 0.05 m - 0.05 m soil moisture measured with ECH20-EC-TM \n",
      "compared to GPI: 1814367 Lon: 102.142 Lat: 33.877\n",
      "Results:\n",
      "(Pearsons_r(sm_and_insitu_sm=0.41146915349727176), p_value(sm_and_insitu_sm=2.1838669056567634e-11))\n",
      "Spearman's (rho,p_value) SpearmanrResult(correlation=0.45643054586958337, pvalue=5.856143898211427e-14)\n",
      "Kendalls's (tau,p_value) KendalltauResult(correlation=0.3260009747987346, pvalue=2.9245202674608733e-13)\n",
      "(Kendall_tau(sm_and_insitu_sm=0.3260009747987346), p_value(sm_and_insitu_sm=2.9245202674608733e-13))\n",
      "rmsd(sm_and_insitu_sm=0.07977939728258261)\n",
      "Bias 0.001804053923478377\n",
      "Nash Sutcliffe -0.1988660324051037\n",
      "-----------------------------------------\n"
     ]
    },
    {
     "name": "stderr",
     "output_type": "stream",
     "text": [
      "c:\\users\\wpreimes\\appdata\\local\\continuum\\miniconda2\\envs\\pytesmo\\lib\\site-packages\\ipykernel_launcher.py:37: UserWarning: Matplotlib is currently using module://ipykernel.pylab.backend_inline, which is a non-GUI backend, so cannot show the figure.\n",
      "c:\\users\\wpreimes\\appdata\\local\\continuum\\miniconda2\\envs\\pytesmo\\lib\\site-packages\\ipykernel_launcher.py:49: UserWarning: Matplotlib is currently using module://ipykernel.pylab.backend_inline, which is a non-GUI backend, so cannot show the figure.\n",
      "c:\\users\\wpreimes\\appdata\\local\\continuum\\miniconda2\\envs\\pytesmo\\lib\\site-packages\\ipykernel_launcher.py:56: UserWarning: Matplotlib is currently using module://ipykernel.pylab.backend_inline, which is a non-GUI backend, so cannot show the figure.\n"
     ]
    },
    {
     "name": "stdout",
     "output_type": "stream",
     "text": [
      "ISMN time series: MAQU CST_02 0.05 m - 0.05 m soil moisture measured with ECH20-EC-TM \n",
      "compared to GPI: 1803695 Lon: 102.145 Lat: 33.652\n",
      "Results:\n",
      "(Pearsons_r(sm_and_insitu_sm=0.73829377974113), p_value(sm_and_insitu_sm=9.582827090486536e-48))\n",
      "Spearman's (rho,p_value) SpearmanrResult(correlation=0.7088106610178744, pvalue=1.6438422626309885e-42)\n",
      "Kendalls's (tau,p_value) KendalltauResult(correlation=0.531613355918225, pvalue=3.009619482130224e-36)\n",
      "(Kendall_tau(sm_and_insitu_sm=0.531613355918225), p_value(sm_and_insitu_sm=3.009619482130224e-36))\n",
      "rmsd(sm_and_insitu_sm=0.05307874498167096)\n",
      "Bias -0.00046688712522047204\n",
      "Nash Sutcliffe 0.46408936677107304\n",
      "-----------------------------------------\n"
     ]
    }
   ],
   "source": [
    "\n",
    "import matplotlib.pyplot as plt\n",
    "\n",
    "i = 0\n",
    "\n",
    "# this loops through all stations that measure soil moisture\n",
    "for station in ISMN_reader.stations_that_measure('soil moisture'):\n",
    "\n",
    "    # this loops through all time series of this station that measure soil moisture\n",
    "    # between 0 and 0.1 meters\n",
    "    for t, ISMN_time_series in enumerate(station.data_for_variable('soil moisture',\n",
    "                                            min_depth=0, max_depth=0.1)):\n",
    "\n",
    "        ascat_time_series = ascat_reader.read(ISMN_time_series.longitude,\n",
    "                                              ISMN_time_series.latitude,\n",
    "                                              mask_ssf=True,\n",
    "                                              mask_frozen_prob = 5,\n",
    "                                              mask_snow_prob = 5)\n",
    "\n",
    "        # drop nan values before doing any matching\n",
    "        ascat_sm = ascat_time_series.data[['sm']].dropna()\n",
    "        ismn_sm = ISMN_time_series.data[['soil moisture']].dropna()\n",
    "\n",
    "        # rename the soil moisture column in ISMN_time_series.data to insitu_sm\n",
    "        # to clearly differentiate the time series when they are plotted together\n",
    "        ismn_sm.rename(columns={'soil moisture':label_insitu}, inplace=True)\n",
    "\n",
    "        # get ISMN data that was observerd within +- 1 hour(1/24. day) of the ASCAT observation\n",
    "        # do not include those indexes where no observation was found\n",
    "        matched_data = temp_match.matching(ascat_sm,ismn_sm, window=1/24.)\n",
    "        # matched ISMN data is now a dataframe with the same datetime index\n",
    "        # as ascat_time_series.data and the nearest insitu observation\n",
    "\n",
    "        # the plot shows that ISMN and ASCAT are observed in different units\n",
    "        fig1, ax1 = plt.subplots()\n",
    "        matched_data.plot(figsize=(15,5),secondary_y=[label_ascat],\n",
    "                          title='temporally merged data', ax=ax1)\n",
    "        fig1.show()\n",
    "        fig1.savefig(os.path.join(out_path, f'compare_ASCAT_ISMN_{i}_{t}_1.png'))\n",
    "\n",
    "\n",
    "        # this takes the matched_data DataFrame and scales all columns to the\n",
    "        # column with the given reference_index, in this case in situ\n",
    "        scaled_data = scaling.scale(matched_data, method='lin_cdf_match',\n",
    "                                    reference_index=1)\n",
    "\n",
    "        # now the scaled ascat data and insitu_sm are in the same space\n",
    "        fig2, ax2 = plt.subplots()\n",
    "        scaled_data.plot(figsize=(15,5), title='scaled data', ax=ax2)\n",
    "        fig2.show()\n",
    "        fig2.savefig(os.path.join(out_path, f'compare_ASCAT_ISMN_{i}_{t}_2.png'))\n",
    "\n",
    "        fig3, ax3 = plt.subplots()\n",
    "        ax3.scatter(scaled_data[label_ascat].values, scaled_data[label_insitu].values)\n",
    "        ax3.set_xlabel(label_ascat)\n",
    "        ax3.set_ylabel(label_insitu)\n",
    "        fig3.show()\n",
    "        fig3.savefig(os.path.join(out_path, f'compare_ASCAT_ISMN_{i}_{t}_3.png'))\n",
    "\n",
    "        # calculate correlation coefficients, RMSD, bias, Nash Sutcliffe\n",
    "        x, y = scaled_data[label_ascat].values, scaled_data[label_insitu].values\n",
    "\n",
    "        print(\"ISMN time series:\", ISMN_time_series)\n",
    "        print(\"compared to\", ascat_time_series)\n",
    "        print(\"Results:\")\n",
    "\n",
    "        # df_metrics takes a DataFrame as input and automatically\n",
    "        # calculates the metric on all combinations of columns\n",
    "        # returns a named tuple for easy printing\n",
    "        print(df_metrics.pearsonr(scaled_data))\n",
    "        print(\"Spearman's (rho,p_value)\", metrics.spearmanr(x, y))\n",
    "        print(\"Kendalls's (tau,p_value)\", metrics.kendalltau(x, y))\n",
    "        print(df_metrics.kendalltau(scaled_data))\n",
    "        print(df_metrics.rmsd(scaled_data))\n",
    "        print(\"Bias\", metrics.bias(x, y))\n",
    "        print(\"Nash Sutcliffe\", metrics.nash_sutcliffe(x, y))\n",
    "\n",
    "        plt.close('all')\n",
    "\n",
    "        print('-----------------------------------------')\n",
    "\n",
    "\n",
    "    i += 1\n",
    "\n",
    "    #only show the first 2 stations, otherwise this program would run a long time\n",
    "    #and produce a lot of plots\n",
    "    if i >= 2:\n",
    "        break    "
   ]
  }
 ],
 "metadata": {
  "kernelspec": {
   "display_name": "Python 3",
   "language": "python",
   "name": "python3"
  },
  "language_info": {
   "codemirror_mode": {
    "name": "ipython",
    "version": 3
   },
   "file_extension": ".py",
   "mimetype": "text/x-python",
   "name": "python",
   "nbconvert_exporter": "python",
   "pygments_lexer": "ipython3",
   "version": "3.6.10"
  },
  "pycharm": {
   "stem_cell": {
    "cell_type": "raw",
    "metadata": {
     "collapsed": false
    },
    "source": []
   }
  }
 },
 "nbformat": 4,
 "nbformat_minor": 1
}
