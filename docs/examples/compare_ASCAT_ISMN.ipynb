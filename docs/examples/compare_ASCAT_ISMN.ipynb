{
 "cells": [
  {
   "cell_type": "markdown",
   "metadata": {},
   "source": [
    "# Example: Compare ASCAT SM against ISMN"
   ]
  },
  {
   "cell_type": "code",
   "execution_count": null,
   "metadata": {},
   "outputs": [],
   "source": [
    "# install the ISMN package first https://github.com/TUW-GEO/ismn\n",
    "import ismn.interface as ismn \n",
    "import warnings\n",
    "\n",
    "# install the ascat package first https://github.com/TUW-GEO/ascat\n",
    "from ascat.read_native.cdr import AscatGriddedNcTs\n",
    "\n",
    "import pytesmo.temporal_matching as temp_match\n",
    "import pytesmo.scaling as scaling\n",
    "import pytesmo.df_metrics as df_metrics\n",
    "import pytesmo.metrics as metrics\n",
    "\n",
    "from pathlib import Path\n",
    "import pandas as pd\n",
    "import matplotlib.pyplot as plt\n",
    "import os\n",
    "%matplotlib inline"
   ]
  },
  {
   "cell_type": "markdown",
   "metadata": {},
   "source": [
    "Create the ascat reader:"
   ]
  },
  {
   "cell_type": "code",
   "execution_count": null,
   "metadata": {},
   "outputs": [],
   "source": [
    "testdata_path = Path(\".\").resolve().parent.parent / \"tests\" / \"test-data\"\n",
    "ascat_data_folder = testdata_path / \"sat\" / \"ascat\" / \"netcdf\" / \"55R22\"\n",
    "ascat_grid_fname = testdata_path / \"sat\" / \"ascat\" / \"netcdf\" / \"grid\" / \"TUW_WARP5_grid_info_2_1.nc\"\n",
    "static_layer_path = testdata_path / \"sat\" / \"h_saf\" / \"static_layer\"\n",
    "\n",
    "\n",
    "#init the AscatSsmCdr reader with the paths\n",
    "with warnings.catch_warnings():\n",
    "    warnings.filterwarnings('ignore') # some warnings are expected and ignored\n",
    "    \n",
    "    ascat_reader = AscatGriddedNcTs(\n",
    "        ascat_data_folder,\n",
    "        \"TUW_METOP_ASCAT_WARP55R22_{:04d}\",\n",
    "        grid_filename=ascat_grid_fname,\n",
    "        static_layer_path=static_layer_path\n",
    "    )"
   ]
  },
  {
   "cell_type": "markdown",
   "metadata": {},
   "source": [
    "Create the ismn reader:"
   ]
  },
  {
   "cell_type": "code",
   "execution_count": null,
   "metadata": {
    "scrolled": true
   },
   "outputs": [],
   "source": [
    "#set path to ISMN data\n",
    "path_to_ismn_data = testdata_path / \"ismn\" / \"multinetwork\" / \"header_values\"\n",
    "\n",
    "#Initialize reader\n",
    "ISMN_reader = ismn.ISMN_Interface(path_to_ismn_data)\n",
    "list(ISMN_reader.stations_that_measure('soil moisture'))"
   ]
  },
  {
   "cell_type": "markdown",
   "metadata": {},
   "source": [
    "We will compare only the first station to ASCAT here. For this station, we will compare ASCAT to the available measured time series from depths above 10 cm (which is only one in this case)."
   ]
  },
  {
   "cell_type": "code",
   "execution_count": null,
   "metadata": {},
   "outputs": [],
   "source": [
    "station = next(ISMN_reader.stations_that_measure('soil moisture'))\n",
    "list(station.data_for_variable('soil moisture', min_depth=0, max_depth=0.1))"
   ]
  },
  {
   "cell_type": "markdown",
   "metadata": {},
   "source": [
    "We will first temporally collocate the ISMN time series to ASCAT. Then we will perform a CDF matching so that biases between the two will be removed."
   ]
  },
  {
   "cell_type": "code",
   "execution_count": null,
   "metadata": {},
   "outputs": [],
   "source": [
    "label_ascat='sm'\n",
    "label_insitu='insitu_sm'\n",
    "\n",
    "\n",
    "\n",
    "ISMN_time_series = next(station.data_for_variable('soil moisture', min_depth=0, max_depth=0.1))\n",
    "ascat_time_series = ascat_reader.read(ISMN_time_series.longitude,\n",
    "                                      ISMN_time_series.latitude,\n",
    "                                      mask_ssf=True,\n",
    "                                      mask_frozen_prob = 5,\n",
    "                                      mask_snow_prob = 5).tz_localize(\"UTC\")\n",
    "ascat_time_series"
   ]
  },
  {
   "cell_type": "code",
   "execution_count": null,
   "metadata": {},
   "outputs": [],
   "source": [
    "ISMN_time_series.data"
   ]
  },
  {
   "cell_type": "markdown",
   "metadata": {},
   "source": [
    "We will rename the soil moisture column from ISMN so it's easier to differentiate them in plots. Also, drop all the NaNs here, they might lead to problems further on."
   ]
  },
  {
   "cell_type": "code",
   "execution_count": null,
   "metadata": {},
   "outputs": [],
   "source": [
    "ismn_sm = ISMN_time_series.data[[\"soil moisture\"]].dropna()\n",
    "ismn_sm.rename(columns={'soil moisture':label_insitu}, inplace=True)\n",
    "ascat_sm = ascat_time_series[[\"sm\"]].dropna()\n",
    "ascat_sm"
   ]
  },
  {
   "cell_type": "code",
   "execution_count": null,
   "metadata": {},
   "outputs": [],
   "source": [
    "ismn_sm"
   ]
  },
  {
   "cell_type": "markdown",
   "metadata": {},
   "source": [
    "Now we need to temporally collocate the two time series. We do this using the nearest neighbour within +- 1 hour."
   ]
  },
  {
   "cell_type": "code",
   "execution_count": null,
   "metadata": {},
   "outputs": [],
   "source": [
    "matched_ismn = temp_match.temporal_collocation(ascat_sm, ismn_sm, pd.Timedelta(1, \"H\"))\n",
    "matched_data = pd.concat((ascat_sm, matched_ismn), axis=1).dropna()\n",
    "matched_data"
   ]
  },
  {
   "cell_type": "code",
   "execution_count": null,
   "metadata": {},
   "outputs": [],
   "source": [
    "fig1, ax1 = plt.subplots()\n",
    "matched_data.plot(figsize=(15,5),secondary_y=[label_ascat],\n",
    "                  title='temporally merged data', ax=ax1);"
   ]
  },
  {
   "cell_type": "markdown",
   "metadata": {},
   "source": [
    "There is still a bias between the time series, especially at the start. We can remove it by scaling, here we use CDF matching as a nonlinear scaling method."
   ]
  },
  {
   "cell_type": "code",
   "execution_count": null,
   "metadata": {},
   "outputs": [],
   "source": [
    "# this takes the matched_data DataFrame and scales all columns to the\n",
    "# column with the given reference_index, in this case in situ\n",
    "scaled_data = scaling.scale(matched_data, method='cdf_beta_match',\n",
    "                            reference_index=1)\n",
    "\n",
    "# now the scaled ascat data and insitu_sm are in the same space\n",
    "fig2, ax2 = plt.subplots()\n",
    "scaled_data.plot(figsize=(15,5), title='scaled data', ax=ax2);"
   ]
  },
  {
   "cell_type": "markdown",
   "metadata": {},
   "source": [
    "To see the correlation, we can create a scatterplot."
   ]
  },
  {
   "cell_type": "code",
   "execution_count": null,
   "metadata": {},
   "outputs": [],
   "source": [
    "fig3, ax3 = plt.subplots()\n",
    "ax3.scatter(scaled_data[label_ascat].values, scaled_data[label_insitu].values)\n",
    "ax3.set_xlabel(label_ascat)\n",
    "ax3.set_ylabel(label_insitu);"
   ]
  },
  {
   "cell_type": "markdown",
   "metadata": {},
   "source": [
    "We can also calculate the correlation and other interesting metrics:"
   ]
  },
  {
   "cell_type": "code",
   "execution_count": null,
   "metadata": {},
   "outputs": [],
   "source": [
    "# calculate correlation coefficients, RMSD, bias, Nash Sutcliffe\n",
    "x, y = scaled_data[label_ascat].values, scaled_data[label_insitu].values\n",
    "\n",
    "from scipy import stats\n",
    "print(\"Pearson's R    = {:.2f}, p = {:.2e}\".format(*stats.pearsonr(x, y)))\n",
    "print(\"Spearman's rho = {:.2f}, p = {:.2e}\".format(*stats.spearmanr(x, y)))\n",
    "print(\"Kendall's tau  = {:.2f}, p = {:.2e}\".format(*stats.kendalltau(x, y)))\n",
    "print()\n",
    "print(\"RMSD = {:.2f}\".format(metrics.rmsd(x, y)))\n",
    "print(\"Bias = {:.2f}\".format(metrics.bias(x, y)))\n",
    "print(\"Nash Sutcliffe = {:.2f}\".format(metrics.nash_sutcliffe(x, y)))"
   ]
  },
  {
   "cell_type": "markdown",
   "metadata": {},
   "source": [
    "The correlations are all significant, although there are only in the medium range. The bias is zero, because we scaled the data and thereby removed the bias."
   ]
  }
 ],
 "metadata": {
  "kernelspec": {
   "display_name": "Python [conda env:pytesmo]",
   "language": "python",
   "name": "conda-env-pytesmo-py"
  },
  "language_info": {
   "codemirror_mode": {
    "name": "ipython",
    "version": 3
   },
   "file_extension": ".py",
   "mimetype": "text/x-python",
   "name": "python",
   "nbconvert_exporter": "python",
   "pygments_lexer": "ipython3",
   "version": "3.8.8"
  },
  "pycharm": {
   "stem_cell": {
    "cell_type": "raw",
    "metadata": {
     "collapsed": false
    },
    "source": []
   }
  }
 },
 "nbformat": 4,
 "nbformat_minor": 4
}
