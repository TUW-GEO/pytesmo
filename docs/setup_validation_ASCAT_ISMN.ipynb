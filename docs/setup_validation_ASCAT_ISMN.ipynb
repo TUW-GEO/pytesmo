{
 "cells": [
  {
   "cell_type": "markdown",
   "metadata": {},
   "source": [
    "# Example soil moisture validation: ASCAT - ISMN"
   ]
  },
  {
   "cell_type": "markdown",
   "metadata": {},
   "source": [
    "This example shows how to setup the pytesmo validation framework to perform the validation either normal or using the parallel processing tool from ipython. "
   ]
  },
  {
   "cell_type": "code",
   "execution_count": null,
   "metadata": {
    "collapsed": true
   },
   "outputs": [],
   "source": [
    "import os\n",
    "\n",
    "import pytesmo.validation_framework.temporal_matchers as temporal_matchers\n",
    "import pytesmo.validation_framework.metric_calculators as metrics_calculators\n",
    "\n",
    "from datetime import datetime\n",
    "\n",
    "from pytesmo.io.sat.ascat import AscatH25_SSM\n",
    "from pytesmo.io.ismn.interface import ISMN_Interface\n",
    "from pytesmo.validation_framework.validation import Validation\n",
    "\n",
    "from examples.data_preparation_ASCAT_ISMN import DataPreparation"
   ]
  },
  {
   "cell_type": "markdown",
   "metadata": {},
   "source": [
    "Initialize ASCAT reader"
   ]
  },
  {
   "cell_type": "code",
   "execution_count": null,
   "metadata": {
    "collapsed": true
   },
   "outputs": [],
   "source": [
    "ascat_data_folder = os.path.join('/media/sf_R', 'Datapool_processed', 'WARP', 'WARP5.5',\n",
    "                                 'IRMA1_WARP5.5_P2', 'R1', '080_ssm', 'netcdf')\n",
    "ascat_grid_folder = os.path.join('/media/sf_R', 'Datapool_processed', 'WARP',\n",
    "                                 'ancillary', 'warp5_grid')\n",
    "\n",
    "ascat_reader = AscatH25_SSM(ascat_data_folder, ascat_grid_folder)\n",
    "ascat_reader.read_bulk = True\n",
    "ascat_reader._load_grid_info()"
   ]
  },
  {
   "cell_type": "markdown",
   "metadata": {},
   "source": [
    "Initialize ISMN reader"
   ]
  },
  {
   "cell_type": "code",
   "execution_count": null,
   "metadata": {
    "collapsed": true
   },
   "outputs": [],
   "source": [
    "ismn_data_folder = os.path.join('/media/sf_D', 'ISMN', 'data')\n",
    "ismn_reader = ISMN_Interface(ismn_data_folder)"
   ]
  },
  {
   "cell_type": "markdown",
   "metadata": {},
   "source": [
    "Create the variable ***jobs*** which is a list containing either cell numbers (for a cell based process) or grid point index information tuple(gpi, longitude, latitude). For ISMN *gpi* is replaced by *idx* which is an index used to read time series of variables such as soil moisture. **DO NOT CHANGE** the name ***jobs*** because it will be searched during the parallel processing!"
   ]
  },
  {
   "cell_type": "code",
   "execution_count": null,
   "metadata": {
    "collapsed": true
   },
   "outputs": [],
   "source": [
    "jobs = []\n",
    "\n",
    "ids = ismn_reader.get_dataset_ids(variable='soil moisture', min_depth=0, max_depth=0.1)\n",
    "for idx in ids:\n",
    "    metadata = ismn_reader.metadata[idx]\n",
    "    jobs.append((idx, metadata['longitude'], metadata['latitude']))"
   ]
  },
  {
   "cell_type": "markdown",
   "metadata": {},
   "source": [
    "Create the variable ***save_path*** which is a string representing the path where the results will be saved. **DO NOT CHANGE** the name ***save_path*** because it will be searched during the parallel processing!"
   ]
  },
  {
   "cell_type": "code",
   "execution_count": null,
   "metadata": {
    "collapsed": true
   },
   "outputs": [],
   "source": [
    "save_path = os.path.join('/media/sf_D', 'validation_framework', 'test_ASCAT_ISMN')"
   ]
  },
  {
   "cell_type": "markdown",
   "metadata": {},
   "source": [
    "Create the validation object."
   ]
  },
  {
   "cell_type": "code",
   "execution_count": null,
   "metadata": {
    "collapsed": true
   },
   "outputs": [],
   "source": [
    "datasets = {'ISMN': {'class': ismn_reader, 'columns': ['soil moisture'],\n",
    "                     'type': 'reference', 'args': [], 'kwargs': {}},\n",
    "            'ASCAT': {'class': ascat_reader, 'columns': ['sm'], 'type': 'other',\n",
    "                      'args': [], 'kwargs': {}, 'grids_compatible': False,\n",
    "                      'use_lut': False, 'lut_max_dist': 30000}\n",
    "            }\n",
    "\n",
    "period = [datetime(2007, 1, 1), datetime(2014, 12, 31)]\n",
    "\n",
    "process = Validation(datasets=datasets, data_prep=DataPreparation(),\n",
    "                     temporal_matcher=temporal_matchers.BasicTemporalMatching(window=1/24.0, reverse=True),\n",
    "                     scaling='lin_cdf_match', scale_to_other=True,\n",
    "                     metrics_calculator=metrics_calculators.BasicMetrics(),\n",
    "                     period=period, cell_based_jobs=False)"
   ]
  },
  {
   "cell_type": "markdown",
   "metadata": {},
   "source": [
    "* If you decide to use the **ipython parallel processing** to perform the validation please **ADD** the ***start_processing*** function to your code. Then move to pytesmo.validation_framework.start_validation, change the path to your setup code and start the validation."
   ]
  },
  {
   "cell_type": "code",
   "execution_count": null,
   "metadata": {
    "collapsed": true
   },
   "outputs": [],
   "source": [
    "def start_processing(job):\n",
    "    try:\n",
    "        return process.calc(job)\n",
    "    except RuntimeError:\n",
    "        return process.calc(job)"
   ]
  },
  {
   "cell_type": "markdown",
   "metadata": {},
   "source": [
    "* If you chose to perform the **validation normally** then please **ADD** the uncommented ***main*** method to your code."
   ]
  },
  {
   "cell_type": "code",
   "execution_count": null,
   "metadata": {
    "collapsed": true
   },
   "outputs": [],
   "source": [
    "# if __name__ == '__main__':\n",
    "# \n",
    "#     from pytesmo.validation_framework.results_manager import netcdf_results_manager\n",
    "# \n",
    "#     for job in jobs:\n",
    "#         results = process.calc(job)\n",
    "#         netcdf_results_manager(results, save_path)"
   ]
  }
 ],
 "metadata": {
  "kernelspec": {
   "display_name": "Python 2",
   "language": "python",
   "name": "python2"
  },
  "language_info": {
   "codemirror_mode": {
    "name": "ipython",
    "version": 2
   },
   "file_extension": ".py",
   "mimetype": "text/x-python",
   "name": "python",
   "nbconvert_exporter": "python",
   "pygments_lexer": "ipython2",
   "version": "2.7.3"
  }
 },
 "nbformat": 4,
 "nbformat_minor": 0
}
