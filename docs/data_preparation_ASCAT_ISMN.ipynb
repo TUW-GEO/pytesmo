{
 "cells": [
  {
   "cell_type": "markdown",
   "metadata": {},
   "source": [
    "# Example data preparation ASCAT - ISMN"
   ]
  },
  {
   "cell_type": "markdown",
   "metadata": {},
   "source": [
    "The validation framework allows users to prepare their data before the validation is performed by using the  **DataPreparation** class which must contain two methods:\n",
    "* ***prep_reference***, has at least one parameter - the reference dataframe\n",
    "* ***prep_other***, has at least two parameters - the other dataframe and the name of the dataset"
   ]
  },
  {
   "cell_type": "code",
   "execution_count": null,
   "metadata": {
    "collapsed": true
   },
   "outputs": [],
   "source": [
    "class DataPreparation(object):\n",
    "    \"\"\"\n",
    "    Class for preparing the data before validation.\n",
    "    \"\"\"\n",
    "    @staticmethod\n",
    "    def prep_reference(reference):\n",
    "        \"\"\"\n",
    "        Static method used to prepare the reference dataset (ISMN).\n",
    "\n",
    "        Parameters\n",
    "        ----------\n",
    "        reference : pandas.DataFrame\n",
    "            ISMN data.\n",
    "\n",
    "        Returns\n",
    "        -------\n",
    "        reference : pandas.DataFrame\n",
    "            Masked reference.\n",
    "        \"\"\"\n",
    "        return reference\n",
    "\n",
    "    @staticmethod\n",
    "    def prep_other(other, other_name, mask_snow=80, mask_frozen=80, mask_ssf=[0, 1]):\n",
    "        \"\"\"\n",
    "        Static method used to prepare the other datasets (ASCAT).\n",
    "\n",
    "        Parameters\n",
    "        ----------\n",
    "        other : pandas.DataFrame\n",
    "            Containing at least the fields: sm, frozen_prob, snow_prob, ssf.\n",
    "        other_name : string\n",
    "            ASCAT.\n",
    "        mask_snow : int, optional\n",
    "            If set, all the observations with snow probability > mask_snow\n",
    "            are removed from the result. Default: 80.\n",
    "        mask_frozen : int, optional\n",
    "            If set, all the observations with frozen probability > mask_frozen\n",
    "            are removed from the result. Default: 80.\n",
    "        mask_ssf : list, optional\n",
    "            If set, all the observations with ssf != mask_ssf are removed from\n",
    "            the result. Default: [0, 1].\n",
    "\n",
    "        Returns\n",
    "        -------\n",
    "        reference : pandas.DataFrame\n",
    "            Masked reference.\n",
    "        \"\"\"\n",
    "        if other_name == 'ASCAT':\n",
    "\n",
    "            # mask frozen\n",
    "            if mask_frozen is not None:\n",
    "                other = other[other['frozen_prob'] < mask_frozen]\n",
    "\n",
    "            # mask snow\n",
    "            if mask_snow is not None:\n",
    "                other = other[other['snow_prob'] < mask_snow]\n",
    "\n",
    "            # mask ssf\n",
    "            if mask_ssf is not None:\n",
    "                other = other[(other['ssf'] == mask_ssf[0]) |\n",
    "                              (other['ssf'] == mask_ssf[1])]\n",
    "        return other"
   ]
  }
 ],
 "metadata": {
  "kernelspec": {
   "display_name": "Python 2",
   "language": "python",
   "name": "python2"
  },
  "language_info": {
   "codemirror_mode": {
    "name": "ipython",
    "version": 2
   },
   "file_extension": ".py",
   "mimetype": "text/x-python",
   "name": "python",
   "nbconvert_exporter": "python",
   "pygments_lexer": "ipython2",
   "version": "2.7.3"
  }
 },
 "nbformat": 4,
 "nbformat_minor": 0
}
